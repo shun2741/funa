{
 "cells": [
  {
   "cell_type": "code",
   "execution_count": 1,
   "metadata": {},
   "outputs": [],
   "source": [
    "import numpy as np\n",
    "import pandas as pd"
   ]
  },
  {
   "cell_type": "code",
   "execution_count": 2,
   "metadata": {},
   "outputs": [],
   "source": [
    "train_identity = pd.read_csv(\"../data/train_identity.csv\")\n",
    "train_transaction = pd.read_csv(\"../data/train_transaction.csv\")"
   ]
  },
  {
   "cell_type": "code",
   "execution_count": 4,
   "metadata": {},
   "outputs": [
    {
     "data": {
      "text/plain": [
       "(144233, 41)"
      ]
     },
     "execution_count": 4,
     "metadata": {},
     "output_type": "execute_result"
    }
   ],
   "source": [
    "train_identity.shape"
   ]
  },
  {
   "cell_type": "code",
   "execution_count": 5,
   "metadata": {},
   "outputs": [
    {
     "data": {
      "text/plain": [
       "(590540, 394)"
      ]
     },
     "execution_count": 5,
     "metadata": {},
     "output_type": "execute_result"
    }
   ],
   "source": [
    "train_transaction.shape"
   ]
  },
  {
   "cell_type": "code",
   "execution_count": 6,
   "metadata": {},
   "outputs": [],
   "source": [
    "sub = pd.read_csv(\"../data/sample_submission.csv\")"
   ]
  },
  {
   "cell_type": "code",
   "execution_count": 10,
   "metadata": {},
   "outputs": [
    {
     "data": {
      "text/html": [
       "<div>\n",
       "<style scoped>\n",
       "    .dataframe tbody tr th:only-of-type {\n",
       "        vertical-align: middle;\n",
       "    }\n",
       "\n",
       "    .dataframe tbody tr th {\n",
       "        vertical-align: top;\n",
       "    }\n",
       "\n",
       "    .dataframe thead th {\n",
       "        text-align: right;\n",
       "    }\n",
       "</style>\n",
       "<table border=\"1\" class=\"dataframe\">\n",
       "  <thead>\n",
       "    <tr style=\"text-align: right;\">\n",
       "      <th></th>\n",
       "      <th>TransactionID</th>\n",
       "      <th>isFraud</th>\n",
       "    </tr>\n",
       "  </thead>\n",
       "  <tbody>\n",
       "    <tr>\n",
       "      <th>0</th>\n",
       "      <td>3663549</td>\n",
       "      <td>0.5</td>\n",
       "    </tr>\n",
       "    <tr>\n",
       "      <th>1</th>\n",
       "      <td>3663550</td>\n",
       "      <td>0.5</td>\n",
       "    </tr>\n",
       "    <tr>\n",
       "      <th>2</th>\n",
       "      <td>3663551</td>\n",
       "      <td>0.5</td>\n",
       "    </tr>\n",
       "    <tr>\n",
       "      <th>3</th>\n",
       "      <td>3663552</td>\n",
       "      <td>0.5</td>\n",
       "    </tr>\n",
       "    <tr>\n",
       "      <th>4</th>\n",
       "      <td>3663553</td>\n",
       "      <td>0.5</td>\n",
       "    </tr>\n",
       "  </tbody>\n",
       "</table>\n",
       "</div>"
      ],
      "text/plain": [
       "   TransactionID  isFraud\n",
       "0        3663549      0.5\n",
       "1        3663550      0.5\n",
       "2        3663551      0.5\n",
       "3        3663552      0.5\n",
       "4        3663553      0.5"
      ]
     },
     "execution_count": 10,
     "metadata": {},
     "output_type": "execute_result"
    }
   ],
   "source": [
    "sub.head()"
   ]
  },
  {
   "cell_type": "code",
   "execution_count": 8,
   "metadata": {},
   "outputs": [
    {
     "data": {
      "text/plain": [
       "(506691, 2)"
      ]
     },
     "execution_count": 8,
     "metadata": {},
     "output_type": "execute_result"
    }
   ],
   "source": [
    "sub.shape"
   ]
  },
  {
   "cell_type": "code",
   "execution_count": 9,
   "metadata": {},
   "outputs": [
    {
     "data": {
      "text/html": [
       "<div>\n",
       "<style scoped>\n",
       "    .dataframe tbody tr th:only-of-type {\n",
       "        vertical-align: middle;\n",
       "    }\n",
       "\n",
       "    .dataframe tbody tr th {\n",
       "        vertical-align: top;\n",
       "    }\n",
       "\n",
       "    .dataframe thead th {\n",
       "        text-align: right;\n",
       "    }\n",
       "</style>\n",
       "<table border=\"1\" class=\"dataframe\">\n",
       "  <thead>\n",
       "    <tr style=\"text-align: right;\">\n",
       "      <th></th>\n",
       "      <th>0</th>\n",
       "      <th>1</th>\n",
       "      <th>2</th>\n",
       "      <th>3</th>\n",
       "      <th>4</th>\n",
       "    </tr>\n",
       "  </thead>\n",
       "  <tbody>\n",
       "    <tr>\n",
       "      <th>TransactionID</th>\n",
       "      <td>2987004</td>\n",
       "      <td>2987008</td>\n",
       "      <td>2987010</td>\n",
       "      <td>2987011</td>\n",
       "      <td>2987016</td>\n",
       "    </tr>\n",
       "    <tr>\n",
       "      <th>id_01</th>\n",
       "      <td>0</td>\n",
       "      <td>-5</td>\n",
       "      <td>-5</td>\n",
       "      <td>-5</td>\n",
       "      <td>0</td>\n",
       "    </tr>\n",
       "    <tr>\n",
       "      <th>id_02</th>\n",
       "      <td>70787</td>\n",
       "      <td>98945</td>\n",
       "      <td>191631</td>\n",
       "      <td>221832</td>\n",
       "      <td>7460</td>\n",
       "    </tr>\n",
       "    <tr>\n",
       "      <th>id_03</th>\n",
       "      <td>NaN</td>\n",
       "      <td>NaN</td>\n",
       "      <td>0</td>\n",
       "      <td>NaN</td>\n",
       "      <td>0</td>\n",
       "    </tr>\n",
       "    <tr>\n",
       "      <th>id_04</th>\n",
       "      <td>NaN</td>\n",
       "      <td>NaN</td>\n",
       "      <td>0</td>\n",
       "      <td>NaN</td>\n",
       "      <td>0</td>\n",
       "    </tr>\n",
       "    <tr>\n",
       "      <th>id_05</th>\n",
       "      <td>NaN</td>\n",
       "      <td>0</td>\n",
       "      <td>0</td>\n",
       "      <td>0</td>\n",
       "      <td>1</td>\n",
       "    </tr>\n",
       "    <tr>\n",
       "      <th>id_06</th>\n",
       "      <td>NaN</td>\n",
       "      <td>-5</td>\n",
       "      <td>0</td>\n",
       "      <td>-6</td>\n",
       "      <td>0</td>\n",
       "    </tr>\n",
       "    <tr>\n",
       "      <th>id_07</th>\n",
       "      <td>NaN</td>\n",
       "      <td>NaN</td>\n",
       "      <td>NaN</td>\n",
       "      <td>NaN</td>\n",
       "      <td>NaN</td>\n",
       "    </tr>\n",
       "    <tr>\n",
       "      <th>id_08</th>\n",
       "      <td>NaN</td>\n",
       "      <td>NaN</td>\n",
       "      <td>NaN</td>\n",
       "      <td>NaN</td>\n",
       "      <td>NaN</td>\n",
       "    </tr>\n",
       "    <tr>\n",
       "      <th>id_09</th>\n",
       "      <td>NaN</td>\n",
       "      <td>NaN</td>\n",
       "      <td>0</td>\n",
       "      <td>NaN</td>\n",
       "      <td>0</td>\n",
       "    </tr>\n",
       "    <tr>\n",
       "      <th>id_10</th>\n",
       "      <td>NaN</td>\n",
       "      <td>NaN</td>\n",
       "      <td>0</td>\n",
       "      <td>NaN</td>\n",
       "      <td>0</td>\n",
       "    </tr>\n",
       "    <tr>\n",
       "      <th>id_11</th>\n",
       "      <td>100</td>\n",
       "      <td>100</td>\n",
       "      <td>100</td>\n",
       "      <td>100</td>\n",
       "      <td>100</td>\n",
       "    </tr>\n",
       "    <tr>\n",
       "      <th>id_12</th>\n",
       "      <td>NotFound</td>\n",
       "      <td>NotFound</td>\n",
       "      <td>NotFound</td>\n",
       "      <td>NotFound</td>\n",
       "      <td>NotFound</td>\n",
       "    </tr>\n",
       "    <tr>\n",
       "      <th>id_13</th>\n",
       "      <td>NaN</td>\n",
       "      <td>49</td>\n",
       "      <td>52</td>\n",
       "      <td>52</td>\n",
       "      <td>NaN</td>\n",
       "    </tr>\n",
       "    <tr>\n",
       "      <th>id_14</th>\n",
       "      <td>-480</td>\n",
       "      <td>-300</td>\n",
       "      <td>NaN</td>\n",
       "      <td>NaN</td>\n",
       "      <td>-300</td>\n",
       "    </tr>\n",
       "    <tr>\n",
       "      <th>id_15</th>\n",
       "      <td>New</td>\n",
       "      <td>New</td>\n",
       "      <td>Found</td>\n",
       "      <td>New</td>\n",
       "      <td>Found</td>\n",
       "    </tr>\n",
       "    <tr>\n",
       "      <th>id_16</th>\n",
       "      <td>NotFound</td>\n",
       "      <td>NotFound</td>\n",
       "      <td>Found</td>\n",
       "      <td>NotFound</td>\n",
       "      <td>Found</td>\n",
       "    </tr>\n",
       "    <tr>\n",
       "      <th>id_17</th>\n",
       "      <td>166</td>\n",
       "      <td>166</td>\n",
       "      <td>121</td>\n",
       "      <td>225</td>\n",
       "      <td>166</td>\n",
       "    </tr>\n",
       "    <tr>\n",
       "      <th>id_18</th>\n",
       "      <td>NaN</td>\n",
       "      <td>NaN</td>\n",
       "      <td>NaN</td>\n",
       "      <td>NaN</td>\n",
       "      <td>15</td>\n",
       "    </tr>\n",
       "    <tr>\n",
       "      <th>id_19</th>\n",
       "      <td>542</td>\n",
       "      <td>621</td>\n",
       "      <td>410</td>\n",
       "      <td>176</td>\n",
       "      <td>529</td>\n",
       "    </tr>\n",
       "    <tr>\n",
       "      <th>id_20</th>\n",
       "      <td>144</td>\n",
       "      <td>500</td>\n",
       "      <td>142</td>\n",
       "      <td>507</td>\n",
       "      <td>575</td>\n",
       "    </tr>\n",
       "    <tr>\n",
       "      <th>id_21</th>\n",
       "      <td>NaN</td>\n",
       "      <td>NaN</td>\n",
       "      <td>NaN</td>\n",
       "      <td>NaN</td>\n",
       "      <td>NaN</td>\n",
       "    </tr>\n",
       "    <tr>\n",
       "      <th>id_22</th>\n",
       "      <td>NaN</td>\n",
       "      <td>NaN</td>\n",
       "      <td>NaN</td>\n",
       "      <td>NaN</td>\n",
       "      <td>NaN</td>\n",
       "    </tr>\n",
       "    <tr>\n",
       "      <th>id_23</th>\n",
       "      <td>NaN</td>\n",
       "      <td>NaN</td>\n",
       "      <td>NaN</td>\n",
       "      <td>NaN</td>\n",
       "      <td>NaN</td>\n",
       "    </tr>\n",
       "    <tr>\n",
       "      <th>id_24</th>\n",
       "      <td>NaN</td>\n",
       "      <td>NaN</td>\n",
       "      <td>NaN</td>\n",
       "      <td>NaN</td>\n",
       "      <td>NaN</td>\n",
       "    </tr>\n",
       "    <tr>\n",
       "      <th>id_25</th>\n",
       "      <td>NaN</td>\n",
       "      <td>NaN</td>\n",
       "      <td>NaN</td>\n",
       "      <td>NaN</td>\n",
       "      <td>NaN</td>\n",
       "    </tr>\n",
       "    <tr>\n",
       "      <th>id_26</th>\n",
       "      <td>NaN</td>\n",
       "      <td>NaN</td>\n",
       "      <td>NaN</td>\n",
       "      <td>NaN</td>\n",
       "      <td>NaN</td>\n",
       "    </tr>\n",
       "    <tr>\n",
       "      <th>id_27</th>\n",
       "      <td>NaN</td>\n",
       "      <td>NaN</td>\n",
       "      <td>NaN</td>\n",
       "      <td>NaN</td>\n",
       "      <td>NaN</td>\n",
       "    </tr>\n",
       "    <tr>\n",
       "      <th>id_28</th>\n",
       "      <td>New</td>\n",
       "      <td>New</td>\n",
       "      <td>Found</td>\n",
       "      <td>New</td>\n",
       "      <td>Found</td>\n",
       "    </tr>\n",
       "    <tr>\n",
       "      <th>id_29</th>\n",
       "      <td>NotFound</td>\n",
       "      <td>NotFound</td>\n",
       "      <td>Found</td>\n",
       "      <td>NotFound</td>\n",
       "      <td>Found</td>\n",
       "    </tr>\n",
       "    <tr>\n",
       "      <th>id_30</th>\n",
       "      <td>Android 7.0</td>\n",
       "      <td>iOS 11.1.2</td>\n",
       "      <td>NaN</td>\n",
       "      <td>NaN</td>\n",
       "      <td>Mac OS X 10_11_6</td>\n",
       "    </tr>\n",
       "    <tr>\n",
       "      <th>id_31</th>\n",
       "      <td>samsung browser 6.2</td>\n",
       "      <td>mobile safari 11.0</td>\n",
       "      <td>chrome 62.0</td>\n",
       "      <td>chrome 62.0</td>\n",
       "      <td>chrome 62.0</td>\n",
       "    </tr>\n",
       "    <tr>\n",
       "      <th>id_32</th>\n",
       "      <td>32</td>\n",
       "      <td>32</td>\n",
       "      <td>NaN</td>\n",
       "      <td>NaN</td>\n",
       "      <td>24</td>\n",
       "    </tr>\n",
       "    <tr>\n",
       "      <th>id_33</th>\n",
       "      <td>2220x1080</td>\n",
       "      <td>1334x750</td>\n",
       "      <td>NaN</td>\n",
       "      <td>NaN</td>\n",
       "      <td>1280x800</td>\n",
       "    </tr>\n",
       "    <tr>\n",
       "      <th>id_34</th>\n",
       "      <td>match_status:2</td>\n",
       "      <td>match_status:1</td>\n",
       "      <td>NaN</td>\n",
       "      <td>NaN</td>\n",
       "      <td>match_status:2</td>\n",
       "    </tr>\n",
       "    <tr>\n",
       "      <th>id_35</th>\n",
       "      <td>T</td>\n",
       "      <td>T</td>\n",
       "      <td>F</td>\n",
       "      <td>F</td>\n",
       "      <td>T</td>\n",
       "    </tr>\n",
       "    <tr>\n",
       "      <th>id_36</th>\n",
       "      <td>F</td>\n",
       "      <td>F</td>\n",
       "      <td>F</td>\n",
       "      <td>F</td>\n",
       "      <td>F</td>\n",
       "    </tr>\n",
       "    <tr>\n",
       "      <th>id_37</th>\n",
       "      <td>T</td>\n",
       "      <td>F</td>\n",
       "      <td>T</td>\n",
       "      <td>T</td>\n",
       "      <td>T</td>\n",
       "    </tr>\n",
       "    <tr>\n",
       "      <th>id_38</th>\n",
       "      <td>T</td>\n",
       "      <td>T</td>\n",
       "      <td>T</td>\n",
       "      <td>T</td>\n",
       "      <td>T</td>\n",
       "    </tr>\n",
       "    <tr>\n",
       "      <th>DeviceType</th>\n",
       "      <td>mobile</td>\n",
       "      <td>mobile</td>\n",
       "      <td>desktop</td>\n",
       "      <td>desktop</td>\n",
       "      <td>desktop</td>\n",
       "    </tr>\n",
       "    <tr>\n",
       "      <th>DeviceInfo</th>\n",
       "      <td>SAMSUNG SM-G892A Build/NRD90M</td>\n",
       "      <td>iOS Device</td>\n",
       "      <td>Windows</td>\n",
       "      <td>NaN</td>\n",
       "      <td>MacOS</td>\n",
       "    </tr>\n",
       "  </tbody>\n",
       "</table>\n",
       "</div>"
      ],
      "text/plain": [
       "                                           0                   1            2  \\\n",
       "TransactionID                        2987004             2987008      2987010   \n",
       "id_01                                      0                  -5           -5   \n",
       "id_02                                  70787               98945       191631   \n",
       "id_03                                    NaN                 NaN            0   \n",
       "id_04                                    NaN                 NaN            0   \n",
       "id_05                                    NaN                   0            0   \n",
       "id_06                                    NaN                  -5            0   \n",
       "id_07                                    NaN                 NaN          NaN   \n",
       "id_08                                    NaN                 NaN          NaN   \n",
       "id_09                                    NaN                 NaN            0   \n",
       "id_10                                    NaN                 NaN            0   \n",
       "id_11                                    100                 100          100   \n",
       "id_12                               NotFound            NotFound     NotFound   \n",
       "id_13                                    NaN                  49           52   \n",
       "id_14                                   -480                -300          NaN   \n",
       "id_15                                    New                 New        Found   \n",
       "id_16                               NotFound            NotFound        Found   \n",
       "id_17                                    166                 166          121   \n",
       "id_18                                    NaN                 NaN          NaN   \n",
       "id_19                                    542                 621          410   \n",
       "id_20                                    144                 500          142   \n",
       "id_21                                    NaN                 NaN          NaN   \n",
       "id_22                                    NaN                 NaN          NaN   \n",
       "id_23                                    NaN                 NaN          NaN   \n",
       "id_24                                    NaN                 NaN          NaN   \n",
       "id_25                                    NaN                 NaN          NaN   \n",
       "id_26                                    NaN                 NaN          NaN   \n",
       "id_27                                    NaN                 NaN          NaN   \n",
       "id_28                                    New                 New        Found   \n",
       "id_29                               NotFound            NotFound        Found   \n",
       "id_30                            Android 7.0          iOS 11.1.2          NaN   \n",
       "id_31                    samsung browser 6.2  mobile safari 11.0  chrome 62.0   \n",
       "id_32                                     32                  32          NaN   \n",
       "id_33                              2220x1080            1334x750          NaN   \n",
       "id_34                         match_status:2      match_status:1          NaN   \n",
       "id_35                                      T                   T            F   \n",
       "id_36                                      F                   F            F   \n",
       "id_37                                      T                   F            T   \n",
       "id_38                                      T                   T            T   \n",
       "DeviceType                            mobile              mobile      desktop   \n",
       "DeviceInfo     SAMSUNG SM-G892A Build/NRD90M          iOS Device      Windows   \n",
       "\n",
       "                         3                 4  \n",
       "TransactionID      2987011           2987016  \n",
       "id_01                   -5                 0  \n",
       "id_02               221832              7460  \n",
       "id_03                  NaN                 0  \n",
       "id_04                  NaN                 0  \n",
       "id_05                    0                 1  \n",
       "id_06                   -6                 0  \n",
       "id_07                  NaN               NaN  \n",
       "id_08                  NaN               NaN  \n",
       "id_09                  NaN                 0  \n",
       "id_10                  NaN                 0  \n",
       "id_11                  100               100  \n",
       "id_12             NotFound          NotFound  \n",
       "id_13                   52               NaN  \n",
       "id_14                  NaN              -300  \n",
       "id_15                  New             Found  \n",
       "id_16             NotFound             Found  \n",
       "id_17                  225               166  \n",
       "id_18                  NaN                15  \n",
       "id_19                  176               529  \n",
       "id_20                  507               575  \n",
       "id_21                  NaN               NaN  \n",
       "id_22                  NaN               NaN  \n",
       "id_23                  NaN               NaN  \n",
       "id_24                  NaN               NaN  \n",
       "id_25                  NaN               NaN  \n",
       "id_26                  NaN               NaN  \n",
       "id_27                  NaN               NaN  \n",
       "id_28                  New             Found  \n",
       "id_29             NotFound             Found  \n",
       "id_30                  NaN  Mac OS X 10_11_6  \n",
       "id_31          chrome 62.0       chrome 62.0  \n",
       "id_32                  NaN                24  \n",
       "id_33                  NaN          1280x800  \n",
       "id_34                  NaN    match_status:2  \n",
       "id_35                    F                 T  \n",
       "id_36                    F                 F  \n",
       "id_37                    T                 T  \n",
       "id_38                    T                 T  \n",
       "DeviceType         desktop           desktop  \n",
       "DeviceInfo             NaN             MacOS  "
      ]
     },
     "execution_count": 9,
     "metadata": {},
     "output_type": "execute_result"
    }
   ],
   "source": [
    "train_identity.head().T"
   ]
  },
  {
   "cell_type": "code",
   "execution_count": 11,
   "metadata": {},
   "outputs": [
    {
     "data": {
      "text/html": [
       "<div>\n",
       "<style scoped>\n",
       "    .dataframe tbody tr th:only-of-type {\n",
       "        vertical-align: middle;\n",
       "    }\n",
       "\n",
       "    .dataframe tbody tr th {\n",
       "        vertical-align: top;\n",
       "    }\n",
       "\n",
       "    .dataframe thead th {\n",
       "        text-align: right;\n",
       "    }\n",
       "</style>\n",
       "<table border=\"1\" class=\"dataframe\">\n",
       "  <thead>\n",
       "    <tr style=\"text-align: right;\">\n",
       "      <th></th>\n",
       "      <th>0</th>\n",
       "      <th>1</th>\n",
       "      <th>2</th>\n",
       "      <th>3</th>\n",
       "      <th>4</th>\n",
       "    </tr>\n",
       "  </thead>\n",
       "  <tbody>\n",
       "    <tr>\n",
       "      <th>TransactionID</th>\n",
       "      <td>2987000</td>\n",
       "      <td>2987001</td>\n",
       "      <td>2987002</td>\n",
       "      <td>2987003</td>\n",
       "      <td>2987004</td>\n",
       "    </tr>\n",
       "    <tr>\n",
       "      <th>isFraud</th>\n",
       "      <td>0</td>\n",
       "      <td>0</td>\n",
       "      <td>0</td>\n",
       "      <td>0</td>\n",
       "      <td>0</td>\n",
       "    </tr>\n",
       "    <tr>\n",
       "      <th>TransactionDT</th>\n",
       "      <td>86400</td>\n",
       "      <td>86401</td>\n",
       "      <td>86469</td>\n",
       "      <td>86499</td>\n",
       "      <td>86506</td>\n",
       "    </tr>\n",
       "    <tr>\n",
       "      <th>TransactionAmt</th>\n",
       "      <td>68.5</td>\n",
       "      <td>29</td>\n",
       "      <td>59</td>\n",
       "      <td>50</td>\n",
       "      <td>50</td>\n",
       "    </tr>\n",
       "    <tr>\n",
       "      <th>ProductCD</th>\n",
       "      <td>W</td>\n",
       "      <td>W</td>\n",
       "      <td>W</td>\n",
       "      <td>W</td>\n",
       "      <td>H</td>\n",
       "    </tr>\n",
       "    <tr>\n",
       "      <th>card1</th>\n",
       "      <td>13926</td>\n",
       "      <td>2755</td>\n",
       "      <td>4663</td>\n",
       "      <td>18132</td>\n",
       "      <td>4497</td>\n",
       "    </tr>\n",
       "    <tr>\n",
       "      <th>card2</th>\n",
       "      <td>NaN</td>\n",
       "      <td>404</td>\n",
       "      <td>490</td>\n",
       "      <td>567</td>\n",
       "      <td>514</td>\n",
       "    </tr>\n",
       "    <tr>\n",
       "      <th>card3</th>\n",
       "      <td>150</td>\n",
       "      <td>150</td>\n",
       "      <td>150</td>\n",
       "      <td>150</td>\n",
       "      <td>150</td>\n",
       "    </tr>\n",
       "    <tr>\n",
       "      <th>card4</th>\n",
       "      <td>discover</td>\n",
       "      <td>mastercard</td>\n",
       "      <td>visa</td>\n",
       "      <td>mastercard</td>\n",
       "      <td>mastercard</td>\n",
       "    </tr>\n",
       "    <tr>\n",
       "      <th>card5</th>\n",
       "      <td>142</td>\n",
       "      <td>102</td>\n",
       "      <td>166</td>\n",
       "      <td>117</td>\n",
       "      <td>102</td>\n",
       "    </tr>\n",
       "    <tr>\n",
       "      <th>card6</th>\n",
       "      <td>credit</td>\n",
       "      <td>credit</td>\n",
       "      <td>debit</td>\n",
       "      <td>debit</td>\n",
       "      <td>credit</td>\n",
       "    </tr>\n",
       "    <tr>\n",
       "      <th>addr1</th>\n",
       "      <td>315</td>\n",
       "      <td>325</td>\n",
       "      <td>330</td>\n",
       "      <td>476</td>\n",
       "      <td>420</td>\n",
       "    </tr>\n",
       "    <tr>\n",
       "      <th>addr2</th>\n",
       "      <td>87</td>\n",
       "      <td>87</td>\n",
       "      <td>87</td>\n",
       "      <td>87</td>\n",
       "      <td>87</td>\n",
       "    </tr>\n",
       "    <tr>\n",
       "      <th>dist1</th>\n",
       "      <td>19</td>\n",
       "      <td>NaN</td>\n",
       "      <td>287</td>\n",
       "      <td>NaN</td>\n",
       "      <td>NaN</td>\n",
       "    </tr>\n",
       "    <tr>\n",
       "      <th>dist2</th>\n",
       "      <td>NaN</td>\n",
       "      <td>NaN</td>\n",
       "      <td>NaN</td>\n",
       "      <td>NaN</td>\n",
       "      <td>NaN</td>\n",
       "    </tr>\n",
       "    <tr>\n",
       "      <th>P_emaildomain</th>\n",
       "      <td>NaN</td>\n",
       "      <td>gmail.com</td>\n",
       "      <td>outlook.com</td>\n",
       "      <td>yahoo.com</td>\n",
       "      <td>gmail.com</td>\n",
       "    </tr>\n",
       "    <tr>\n",
       "      <th>R_emaildomain</th>\n",
       "      <td>NaN</td>\n",
       "      <td>NaN</td>\n",
       "      <td>NaN</td>\n",
       "      <td>NaN</td>\n",
       "      <td>NaN</td>\n",
       "    </tr>\n",
       "    <tr>\n",
       "      <th>C1</th>\n",
       "      <td>1</td>\n",
       "      <td>1</td>\n",
       "      <td>1</td>\n",
       "      <td>2</td>\n",
       "      <td>1</td>\n",
       "    </tr>\n",
       "    <tr>\n",
       "      <th>C2</th>\n",
       "      <td>1</td>\n",
       "      <td>1</td>\n",
       "      <td>1</td>\n",
       "      <td>5</td>\n",
       "      <td>1</td>\n",
       "    </tr>\n",
       "    <tr>\n",
       "      <th>C3</th>\n",
       "      <td>0</td>\n",
       "      <td>0</td>\n",
       "      <td>0</td>\n",
       "      <td>0</td>\n",
       "      <td>0</td>\n",
       "    </tr>\n",
       "    <tr>\n",
       "      <th>C4</th>\n",
       "      <td>0</td>\n",
       "      <td>0</td>\n",
       "      <td>0</td>\n",
       "      <td>0</td>\n",
       "      <td>0</td>\n",
       "    </tr>\n",
       "    <tr>\n",
       "      <th>C5</th>\n",
       "      <td>0</td>\n",
       "      <td>0</td>\n",
       "      <td>0</td>\n",
       "      <td>0</td>\n",
       "      <td>0</td>\n",
       "    </tr>\n",
       "    <tr>\n",
       "      <th>C6</th>\n",
       "      <td>1</td>\n",
       "      <td>1</td>\n",
       "      <td>1</td>\n",
       "      <td>4</td>\n",
       "      <td>1</td>\n",
       "    </tr>\n",
       "    <tr>\n",
       "      <th>C7</th>\n",
       "      <td>0</td>\n",
       "      <td>0</td>\n",
       "      <td>0</td>\n",
       "      <td>0</td>\n",
       "      <td>0</td>\n",
       "    </tr>\n",
       "    <tr>\n",
       "      <th>C8</th>\n",
       "      <td>0</td>\n",
       "      <td>0</td>\n",
       "      <td>0</td>\n",
       "      <td>0</td>\n",
       "      <td>1</td>\n",
       "    </tr>\n",
       "    <tr>\n",
       "      <th>C9</th>\n",
       "      <td>1</td>\n",
       "      <td>0</td>\n",
       "      <td>1</td>\n",
       "      <td>1</td>\n",
       "      <td>0</td>\n",
       "    </tr>\n",
       "    <tr>\n",
       "      <th>C10</th>\n",
       "      <td>0</td>\n",
       "      <td>0</td>\n",
       "      <td>0</td>\n",
       "      <td>0</td>\n",
       "      <td>1</td>\n",
       "    </tr>\n",
       "    <tr>\n",
       "      <th>C11</th>\n",
       "      <td>2</td>\n",
       "      <td>1</td>\n",
       "      <td>1</td>\n",
       "      <td>1</td>\n",
       "      <td>1</td>\n",
       "    </tr>\n",
       "    <tr>\n",
       "      <th>C12</th>\n",
       "      <td>0</td>\n",
       "      <td>0</td>\n",
       "      <td>0</td>\n",
       "      <td>0</td>\n",
       "      <td>0</td>\n",
       "    </tr>\n",
       "    <tr>\n",
       "      <th>C13</th>\n",
       "      <td>1</td>\n",
       "      <td>1</td>\n",
       "      <td>1</td>\n",
       "      <td>25</td>\n",
       "      <td>1</td>\n",
       "    </tr>\n",
       "    <tr>\n",
       "      <th>...</th>\n",
       "      <td>...</td>\n",
       "      <td>...</td>\n",
       "      <td>...</td>\n",
       "      <td>...</td>\n",
       "      <td>...</td>\n",
       "    </tr>\n",
       "    <tr>\n",
       "      <th>V310</th>\n",
       "      <td>0</td>\n",
       "      <td>0</td>\n",
       "      <td>0</td>\n",
       "      <td>354</td>\n",
       "      <td>0</td>\n",
       "    </tr>\n",
       "    <tr>\n",
       "      <th>V311</th>\n",
       "      <td>0</td>\n",
       "      <td>0</td>\n",
       "      <td>0</td>\n",
       "      <td>0</td>\n",
       "      <td>0</td>\n",
       "    </tr>\n",
       "    <tr>\n",
       "      <th>V312</th>\n",
       "      <td>0</td>\n",
       "      <td>0</td>\n",
       "      <td>0</td>\n",
       "      <td>135</td>\n",
       "      <td>0</td>\n",
       "    </tr>\n",
       "    <tr>\n",
       "      <th>V313</th>\n",
       "      <td>0</td>\n",
       "      <td>0</td>\n",
       "      <td>0</td>\n",
       "      <td>0</td>\n",
       "      <td>0</td>\n",
       "    </tr>\n",
       "    <tr>\n",
       "      <th>V314</th>\n",
       "      <td>0</td>\n",
       "      <td>0</td>\n",
       "      <td>0</td>\n",
       "      <td>0</td>\n",
       "      <td>0</td>\n",
       "    </tr>\n",
       "    <tr>\n",
       "      <th>V315</th>\n",
       "      <td>0</td>\n",
       "      <td>0</td>\n",
       "      <td>0</td>\n",
       "      <td>0</td>\n",
       "      <td>0</td>\n",
       "    </tr>\n",
       "    <tr>\n",
       "      <th>V316</th>\n",
       "      <td>0</td>\n",
       "      <td>0</td>\n",
       "      <td>0</td>\n",
       "      <td>50</td>\n",
       "      <td>0</td>\n",
       "    </tr>\n",
       "    <tr>\n",
       "      <th>V317</th>\n",
       "      <td>117</td>\n",
       "      <td>0</td>\n",
       "      <td>0</td>\n",
       "      <td>1404</td>\n",
       "      <td>0</td>\n",
       "    </tr>\n",
       "    <tr>\n",
       "      <th>V318</th>\n",
       "      <td>0</td>\n",
       "      <td>0</td>\n",
       "      <td>0</td>\n",
       "      <td>790</td>\n",
       "      <td>0</td>\n",
       "    </tr>\n",
       "    <tr>\n",
       "      <th>V319</th>\n",
       "      <td>0</td>\n",
       "      <td>0</td>\n",
       "      <td>0</td>\n",
       "      <td>0</td>\n",
       "      <td>0</td>\n",
       "    </tr>\n",
       "    <tr>\n",
       "      <th>V320</th>\n",
       "      <td>0</td>\n",
       "      <td>0</td>\n",
       "      <td>0</td>\n",
       "      <td>0</td>\n",
       "      <td>0</td>\n",
       "    </tr>\n",
       "    <tr>\n",
       "      <th>V321</th>\n",
       "      <td>0</td>\n",
       "      <td>0</td>\n",
       "      <td>0</td>\n",
       "      <td>0</td>\n",
       "      <td>0</td>\n",
       "    </tr>\n",
       "    <tr>\n",
       "      <th>V322</th>\n",
       "      <td>NaN</td>\n",
       "      <td>NaN</td>\n",
       "      <td>NaN</td>\n",
       "      <td>NaN</td>\n",
       "      <td>0</td>\n",
       "    </tr>\n",
       "    <tr>\n",
       "      <th>V323</th>\n",
       "      <td>NaN</td>\n",
       "      <td>NaN</td>\n",
       "      <td>NaN</td>\n",
       "      <td>NaN</td>\n",
       "      <td>0</td>\n",
       "    </tr>\n",
       "    <tr>\n",
       "      <th>V324</th>\n",
       "      <td>NaN</td>\n",
       "      <td>NaN</td>\n",
       "      <td>NaN</td>\n",
       "      <td>NaN</td>\n",
       "      <td>0</td>\n",
       "    </tr>\n",
       "    <tr>\n",
       "      <th>V325</th>\n",
       "      <td>NaN</td>\n",
       "      <td>NaN</td>\n",
       "      <td>NaN</td>\n",
       "      <td>NaN</td>\n",
       "      <td>0</td>\n",
       "    </tr>\n",
       "    <tr>\n",
       "      <th>V326</th>\n",
       "      <td>NaN</td>\n",
       "      <td>NaN</td>\n",
       "      <td>NaN</td>\n",
       "      <td>NaN</td>\n",
       "      <td>0</td>\n",
       "    </tr>\n",
       "    <tr>\n",
       "      <th>V327</th>\n",
       "      <td>NaN</td>\n",
       "      <td>NaN</td>\n",
       "      <td>NaN</td>\n",
       "      <td>NaN</td>\n",
       "      <td>0</td>\n",
       "    </tr>\n",
       "    <tr>\n",
       "      <th>V328</th>\n",
       "      <td>NaN</td>\n",
       "      <td>NaN</td>\n",
       "      <td>NaN</td>\n",
       "      <td>NaN</td>\n",
       "      <td>0</td>\n",
       "    </tr>\n",
       "    <tr>\n",
       "      <th>V329</th>\n",
       "      <td>NaN</td>\n",
       "      <td>NaN</td>\n",
       "      <td>NaN</td>\n",
       "      <td>NaN</td>\n",
       "      <td>0</td>\n",
       "    </tr>\n",
       "    <tr>\n",
       "      <th>V330</th>\n",
       "      <td>NaN</td>\n",
       "      <td>NaN</td>\n",
       "      <td>NaN</td>\n",
       "      <td>NaN</td>\n",
       "      <td>0</td>\n",
       "    </tr>\n",
       "    <tr>\n",
       "      <th>V331</th>\n",
       "      <td>NaN</td>\n",
       "      <td>NaN</td>\n",
       "      <td>NaN</td>\n",
       "      <td>NaN</td>\n",
       "      <td>0</td>\n",
       "    </tr>\n",
       "    <tr>\n",
       "      <th>V332</th>\n",
       "      <td>NaN</td>\n",
       "      <td>NaN</td>\n",
       "      <td>NaN</td>\n",
       "      <td>NaN</td>\n",
       "      <td>0</td>\n",
       "    </tr>\n",
       "    <tr>\n",
       "      <th>V333</th>\n",
       "      <td>NaN</td>\n",
       "      <td>NaN</td>\n",
       "      <td>NaN</td>\n",
       "      <td>NaN</td>\n",
       "      <td>0</td>\n",
       "    </tr>\n",
       "    <tr>\n",
       "      <th>V334</th>\n",
       "      <td>NaN</td>\n",
       "      <td>NaN</td>\n",
       "      <td>NaN</td>\n",
       "      <td>NaN</td>\n",
       "      <td>0</td>\n",
       "    </tr>\n",
       "    <tr>\n",
       "      <th>V335</th>\n",
       "      <td>NaN</td>\n",
       "      <td>NaN</td>\n",
       "      <td>NaN</td>\n",
       "      <td>NaN</td>\n",
       "      <td>0</td>\n",
       "    </tr>\n",
       "    <tr>\n",
       "      <th>V336</th>\n",
       "      <td>NaN</td>\n",
       "      <td>NaN</td>\n",
       "      <td>NaN</td>\n",
       "      <td>NaN</td>\n",
       "      <td>0</td>\n",
       "    </tr>\n",
       "    <tr>\n",
       "      <th>V337</th>\n",
       "      <td>NaN</td>\n",
       "      <td>NaN</td>\n",
       "      <td>NaN</td>\n",
       "      <td>NaN</td>\n",
       "      <td>0</td>\n",
       "    </tr>\n",
       "    <tr>\n",
       "      <th>V338</th>\n",
       "      <td>NaN</td>\n",
       "      <td>NaN</td>\n",
       "      <td>NaN</td>\n",
       "      <td>NaN</td>\n",
       "      <td>0</td>\n",
       "    </tr>\n",
       "    <tr>\n",
       "      <th>V339</th>\n",
       "      <td>NaN</td>\n",
       "      <td>NaN</td>\n",
       "      <td>NaN</td>\n",
       "      <td>NaN</td>\n",
       "      <td>0</td>\n",
       "    </tr>\n",
       "  </tbody>\n",
       "</table>\n",
       "<p>394 rows × 5 columns</p>\n",
       "</div>"
      ],
      "text/plain": [
       "                       0           1            2           3           4\n",
       "TransactionID    2987000     2987001      2987002     2987003     2987004\n",
       "isFraud                0           0            0           0           0\n",
       "TransactionDT      86400       86401        86469       86499       86506\n",
       "TransactionAmt      68.5          29           59          50          50\n",
       "ProductCD              W           W            W           W           H\n",
       "card1              13926        2755         4663       18132        4497\n",
       "card2                NaN         404          490         567         514\n",
       "card3                150         150          150         150         150\n",
       "card4           discover  mastercard         visa  mastercard  mastercard\n",
       "card5                142         102          166         117         102\n",
       "card6             credit      credit        debit       debit      credit\n",
       "addr1                315         325          330         476         420\n",
       "addr2                 87          87           87          87          87\n",
       "dist1                 19         NaN          287         NaN         NaN\n",
       "dist2                NaN         NaN          NaN         NaN         NaN\n",
       "P_emaildomain        NaN   gmail.com  outlook.com   yahoo.com   gmail.com\n",
       "R_emaildomain        NaN         NaN          NaN         NaN         NaN\n",
       "C1                     1           1            1           2           1\n",
       "C2                     1           1            1           5           1\n",
       "C3                     0           0            0           0           0\n",
       "C4                     0           0            0           0           0\n",
       "C5                     0           0            0           0           0\n",
       "C6                     1           1            1           4           1\n",
       "C7                     0           0            0           0           0\n",
       "C8                     0           0            0           0           1\n",
       "C9                     1           0            1           1           0\n",
       "C10                    0           0            0           0           1\n",
       "C11                    2           1            1           1           1\n",
       "C12                    0           0            0           0           0\n",
       "C13                    1           1            1          25           1\n",
       "...                  ...         ...          ...         ...         ...\n",
       "V310                   0           0            0         354           0\n",
       "V311                   0           0            0           0           0\n",
       "V312                   0           0            0         135           0\n",
       "V313                   0           0            0           0           0\n",
       "V314                   0           0            0           0           0\n",
       "V315                   0           0            0           0           0\n",
       "V316                   0           0            0          50           0\n",
       "V317                 117           0            0        1404           0\n",
       "V318                   0           0            0         790           0\n",
       "V319                   0           0            0           0           0\n",
       "V320                   0           0            0           0           0\n",
       "V321                   0           0            0           0           0\n",
       "V322                 NaN         NaN          NaN         NaN           0\n",
       "V323                 NaN         NaN          NaN         NaN           0\n",
       "V324                 NaN         NaN          NaN         NaN           0\n",
       "V325                 NaN         NaN          NaN         NaN           0\n",
       "V326                 NaN         NaN          NaN         NaN           0\n",
       "V327                 NaN         NaN          NaN         NaN           0\n",
       "V328                 NaN         NaN          NaN         NaN           0\n",
       "V329                 NaN         NaN          NaN         NaN           0\n",
       "V330                 NaN         NaN          NaN         NaN           0\n",
       "V331                 NaN         NaN          NaN         NaN           0\n",
       "V332                 NaN         NaN          NaN         NaN           0\n",
       "V333                 NaN         NaN          NaN         NaN           0\n",
       "V334                 NaN         NaN          NaN         NaN           0\n",
       "V335                 NaN         NaN          NaN         NaN           0\n",
       "V336                 NaN         NaN          NaN         NaN           0\n",
       "V337                 NaN         NaN          NaN         NaN           0\n",
       "V338                 NaN         NaN          NaN         NaN           0\n",
       "V339                 NaN         NaN          NaN         NaN           0\n",
       "\n",
       "[394 rows x 5 columns]"
      ]
     },
     "execution_count": 11,
     "metadata": {},
     "output_type": "execute_result"
    }
   ],
   "source": [
    "train_transaction.head().T"
   ]
  },
  {
   "cell_type": "markdown",
   "metadata": {},
   "source": [
    "### transaction"
   ]
  },
  {
   "cell_type": "markdown",
   "metadata": {},
   "source": [
    "* Product code"
   ]
  },
  {
   "cell_type": "code",
   "execution_count": 12,
   "metadata": {},
   "outputs": [
    {
     "data": {
      "text/plain": [
       "array(['W', 'H', 'C', 'S', 'R'], dtype=object)"
      ]
     },
     "execution_count": 12,
     "metadata": {},
     "output_type": "execute_result"
    }
   ],
   "source": [
    "train_transaction[\"ProductCD\"].unique()"
   ]
  },
  {
   "cell_type": "markdown",
   "metadata": {},
   "source": [
    "* card1~card6\n",
    "    * cardtype, card category issue bank, country etc...\n",
    "   "
   ]
  },
  {
   "cell_type": "code",
   "execution_count": 13,
   "metadata": {},
   "outputs": [
    {
     "data": {
      "text/plain": [
       "13553"
      ]
     },
     "execution_count": 13,
     "metadata": {},
     "output_type": "execute_result"
    }
   ],
   "source": [
    "train_transaction['card1'].nunique()"
   ]
  },
  {
   "cell_type": "code",
   "execution_count": 14,
   "metadata": {},
   "outputs": [
    {
     "data": {
      "text/plain": [
       "500"
      ]
     },
     "execution_count": 14,
     "metadata": {},
     "output_type": "execute_result"
    }
   ],
   "source": [
    "train_transaction['card2'].nunique()"
   ]
  },
  {
   "cell_type": "code",
   "execution_count": 15,
   "metadata": {},
   "outputs": [
    {
     "data": {
      "text/plain": [
       "114"
      ]
     },
     "execution_count": 15,
     "metadata": {},
     "output_type": "execute_result"
    }
   ],
   "source": [
    "train_transaction['card3'].nunique()"
   ]
  },
  {
   "cell_type": "code",
   "execution_count": 17,
   "metadata": {},
   "outputs": [
    {
     "data": {
      "text/plain": [
       "array([150., 117., 185., 143., 144., 163., 146., 191., 162., 119., 147.,\n",
       "       100., 135., 137., 138., 102., 213., 106., 214., 148., 210., 203.,\n",
       "       194., 141., 225.,  nan, 188., 193., 208., 133., 223., 134., 153.,\n",
       "       131., 200., 149., 116., 222., 220., 197., 129., 206., 195., 204.,\n",
       "       127., 142., 111., 159., 118., 229., 217., 212., 227., 166., 189.,\n",
       "       120., 171., 190., 105., 130., 170., 180., 177., 132., 109., 198.,\n",
       "       121., 183., 215., 156., 207., 186., 167., 152., 199., 219., 202.,\n",
       "       126., 182., 123., 107., 221., 124., 231., 157., 136., 128., 168.,\n",
       "       101., 108., 125., 211., 164., 160., 161., 179., 155., 169., 205.,\n",
       "       209., 226., 174., 176., 181., 224., 122., 201., 175., 139., 172.,\n",
       "       114., 228., 184., 151., 173.])"
      ]
     },
     "execution_count": 17,
     "metadata": {},
     "output_type": "execute_result"
    }
   ],
   "source": [
    "train_transaction['card3'].unique()"
   ]
  },
  {
   "cell_type": "code",
   "execution_count": 18,
   "metadata": {},
   "outputs": [
    {
     "data": {
      "text/plain": [
       "array(['discover', 'mastercard', 'visa', 'american express', nan],\n",
       "      dtype=object)"
      ]
     },
     "execution_count": 18,
     "metadata": {},
     "output_type": "execute_result"
    }
   ],
   "source": [
    "train_transaction['card4'].unique()"
   ]
  },
  {
   "cell_type": "code",
   "execution_count": 19,
   "metadata": {},
   "outputs": [
    {
     "data": {
      "text/plain": [
       "119"
      ]
     },
     "execution_count": 19,
     "metadata": {},
     "output_type": "execute_result"
    }
   ],
   "source": [
    "train_transaction['card5'].nunique()"
   ]
  },
  {
   "cell_type": "code",
   "execution_count": 20,
   "metadata": {},
   "outputs": [
    {
     "data": {
      "text/plain": [
       "array([142., 102., 166., 117., 226., 224., 134., 219., 137., 195., 138.,\n",
       "       100., 147., 162., 202., 118., 150., 183., 171., 236., 197., 133.,\n",
       "       223., 149., 228., 229.,  nan, 198., 182., 126., 185., 190., 131.,\n",
       "       144., 141., 215., 203., 237., 132., 143., 146., 140., 129., 199.,\n",
       "       194., 213., 111., 169., 177., 173., 156., 119., 135., 107., 232.,\n",
       "       188., 159., 127., 148., 139., 104., 210., 180., 207., 204., 212.,\n",
       "       106., 152., 222., 187., 200., 214., 189., 181., 206., 225., 157.,\n",
       "       121., 217., 184., 167., 113., 136., 120., 201., 211., 122., 164.,\n",
       "       123., 145., 172., 114., 231., 105., 221., 234., 130., 109., 196.,\n",
       "       101., 158., 230., 128., 191., 165., 115., 233., 216., 116., 178.,\n",
       "       125., 163., 205., 112., 168., 209., 235., 151., 175., 160.])"
      ]
     },
     "execution_count": 20,
     "metadata": {},
     "output_type": "execute_result"
    }
   ],
   "source": [
    "train_transaction['card5'].unique()"
   ]
  },
  {
   "cell_type": "code",
   "execution_count": 22,
   "metadata": {},
   "outputs": [
    {
     "data": {
      "text/plain": [
       "array(['credit', 'debit', nan, 'debit or credit', 'charge card'],\n",
       "      dtype=object)"
      ]
     },
     "execution_count": 22,
     "metadata": {},
     "output_type": "execute_result"
    }
   ],
   "source": [
    "train_transaction['card6'].unique()"
   ]
  },
  {
   "cell_type": "markdown",
   "metadata": {},
   "source": [
    "* TransactionAMT\n",
    "    * transaction payment amount (USD)"
   ]
  },
  {
   "cell_type": "markdown",
   "metadata": {},
   "source": [
    "* addr \n",
    "    * アドレス"
   ]
  },
  {
   "cell_type": "code",
   "execution_count": 23,
   "metadata": {},
   "outputs": [
    {
     "data": {
      "text/plain": [
       "332"
      ]
     },
     "execution_count": 23,
     "metadata": {},
     "output_type": "execute_result"
    }
   ],
   "source": [
    "train_transaction['addr1'].nunique()"
   ]
  },
  {
   "cell_type": "code",
   "execution_count": 24,
   "metadata": {},
   "outputs": [
    {
     "data": {
      "text/plain": [
       "74"
      ]
     },
     "execution_count": 24,
     "metadata": {},
     "output_type": "execute_result"
    }
   ],
   "source": [
    "train_transaction['addr2'].nunique()"
   ]
  },
  {
   "cell_type": "markdown",
   "metadata": {},
   "source": [
    "* dist\n",
    "    * 距離\n",
    "    * nanが多く、どっちも埋まることはない？"
   ]
  },
  {
   "cell_type": "markdown",
   "metadata": {},
   "source": [
    "* P_emaildomain\n",
    "    * 購入者のメールドメイン\n",
    "* R_emaildomain\n",
    "    * 受信者のメールドメイン"
   ]
  },
  {
   "cell_type": "code",
   "execution_count": 26,
   "metadata": {},
   "outputs": [
    {
     "data": {
      "text/plain": [
       "array([nan, 'gmail.com', 'outlook.com', 'yahoo.com', 'mail.com',\n",
       "       'anonymous.com', 'hotmail.com', 'verizon.net', 'aol.com', 'me.com',\n",
       "       'comcast.net', 'optonline.net', 'cox.net', 'charter.net',\n",
       "       'rocketmail.com', 'prodigy.net.mx', 'embarqmail.com', 'icloud.com',\n",
       "       'live.com.mx', 'gmail', 'live.com', 'att.net', 'juno.com',\n",
       "       'ymail.com', 'sbcglobal.net', 'bellsouth.net', 'msn.com', 'q.com',\n",
       "       'yahoo.com.mx', 'centurylink.net', 'servicios-ta.com',\n",
       "       'earthlink.net', 'hotmail.es', 'cfl.rr.com', 'roadrunner.com',\n",
       "       'netzero.net', 'gmx.de', 'suddenlink.net', 'frontiernet.net',\n",
       "       'windstream.net', 'frontier.com', 'outlook.es', 'mac.com',\n",
       "       'netzero.com', 'aim.com', 'web.de', 'twc.com', 'cableone.net',\n",
       "       'yahoo.fr', 'yahoo.de', 'yahoo.es', 'sc.rr.com', 'ptd.net',\n",
       "       'live.fr', 'yahoo.co.uk', 'hotmail.fr', 'hotmail.de',\n",
       "       'hotmail.co.uk', 'protonmail.com', 'yahoo.co.jp'], dtype=object)"
      ]
     },
     "execution_count": 26,
     "metadata": {},
     "output_type": "execute_result"
    }
   ],
   "source": [
    "train_transaction['P_emaildomain'].unique()"
   ]
  },
  {
   "cell_type": "code",
   "execution_count": 27,
   "metadata": {},
   "outputs": [
    {
     "data": {
      "text/plain": [
       "array([nan, 'gmail.com', 'hotmail.com', 'outlook.com', 'anonymous.com',\n",
       "       'charter.net', 'prodigy.net.mx', 'comcast.net', 'live.com.mx',\n",
       "       'icloud.com', 'yahoo.com', 'aol.com', 'juno.com', 'att.net',\n",
       "       'verizon.net', 'yahoo.com.mx', 'bellsouth.net', 'servicios-ta.com',\n",
       "       'ymail.com', 'hotmail.es', 'msn.com', 'optonline.net', 'live.com',\n",
       "       'gmx.de', 'aim.com', 'mail.com', 'me.com', 'outlook.es', 'cox.net',\n",
       "       'earthlink.net', 'embarqmail.com', 'web.de', 'sbcglobal.net',\n",
       "       'scranton.edu', 'mac.com', 'twc.com', 'roadrunner.com', 'yahoo.fr',\n",
       "       'yahoo.de', 'yahoo.es', 'frontiernet.net', 'gmail', 'live.fr',\n",
       "       'q.com', 'yahoo.co.uk', 'windstream.net', 'suddenlink.net',\n",
       "       'hotmail.fr', 'ptd.net', 'hotmail.de', 'frontier.com',\n",
       "       'cfl.rr.com', 'hotmail.co.uk', 'netzero.com', 'netzero.net',\n",
       "       'yahoo.co.jp', 'rocketmail.com', 'centurylink.net',\n",
       "       'protonmail.com', 'cableone.net', 'sc.rr.com'], dtype=object)"
      ]
     },
     "execution_count": 27,
     "metadata": {},
     "output_type": "execute_result"
    }
   ],
   "source": [
    "train_transaction['R_emaildomain'].unique()"
   ]
  },
  {
   "cell_type": "markdown",
   "metadata": {},
   "source": [
    "* C1-C14: counting, such as how many addresses are found to be associated with the payment card, etc. The actual meaning is masked.\n",
    "* D1-D15: timedelta, such as days between previous transaction, etc.\n",
    "* M1-M9: match, such as names on card and address, etc.\n",
    "* Vxxx: Vesta engineered rich features, including ranking, counting, and other entity relations."
   ]
  },
  {
   "cell_type": "markdown",
   "metadata": {},
   "source": [
    "### train_identity"
   ]
  },
  {
   "cell_type": "code",
   "execution_count": 28,
   "metadata": {},
   "outputs": [
    {
     "data": {
      "text/plain": [
       "array(['New', 'Found', nan, 'Unknown'], dtype=object)"
      ]
     },
     "execution_count": 28,
     "metadata": {},
     "output_type": "execute_result"
    }
   ],
   "source": [
    "train_identity['id_15'].unique()"
   ]
  },
  {
   "cell_type": "code",
   "execution_count": 29,
   "metadata": {},
   "outputs": [
    {
     "data": {
      "text/plain": [
       "array(['NotFound', 'Found', nan], dtype=object)"
      ]
     },
     "execution_count": 29,
     "metadata": {},
     "output_type": "execute_result"
    }
   ],
   "source": [
    "train_identity['id_16'].unique()"
   ]
  },
  {
   "cell_type": "code",
   "execution_count": 30,
   "metadata": {},
   "outputs": [
    {
     "data": {
      "text/plain": [
       "array([nan, 'IP_PROXY:TRANSPARENT', 'IP_PROXY:ANONYMOUS',\n",
       "       'IP_PROXY:HIDDEN'], dtype=object)"
      ]
     },
     "execution_count": 30,
     "metadata": {},
     "output_type": "execute_result"
    }
   ],
   "source": [
    "train_identity['id_23'].unique()"
   ]
  },
  {
   "cell_type": "code",
   "execution_count": 42,
   "metadata": {},
   "outputs": [],
   "source": [
    "device_type = train_identity['id_30'].unique().astype(str)"
   ]
  },
  {
   "cell_type": "markdown",
   "metadata": {},
   "source": [
    "* windows\n",
    "    * 10\n",
    "    * 7\n",
    "    * 8.1\n",
    "    * XP\n",
    "    * vista\n",
    "    * 8\n",
    "    * windows\n",
    "* Android\n",
    "    * 7.0\n",
    "    * Android\n",
    "    * 5.1.1\n",
    "    * 7.1.1\n",
    "    * 6.0\n",
    "    * 8.0.0\n",
    "    * 6.0.1\n",
    "    * 5.0.2\n",
    "    * 4.4.2\n",
    "    * 5.0\n",
    "    * 7.1.2\n",
    "    * 8.1.0\n",
    "* Linux\n",
    "* iOS\n",
    "    *\n",
    "* Mac OS"
   ]
  },
  {
   "cell_type": "code",
   "execution_count": 43,
   "metadata": {},
   "outputs": [],
   "source": [
    "device_type.sort()"
   ]
  },
  {
   "cell_type": "code",
   "execution_count": 44,
   "metadata": {},
   "outputs": [
    {
     "data": {
      "text/plain": [
       "array(['Android', 'Android 4.4.2', 'Android 5.0', 'Android 5.0.2',\n",
       "       'Android 5.1.1', 'Android 6.0', 'Android 6.0.1', 'Android 7.0',\n",
       "       'Android 7.1.1', 'Android 7.1.2', 'Android 8.0.0', 'Android 8.1.0',\n",
       "       'Linux', 'Mac', 'Mac OS X 10.10', 'Mac OS X 10.11',\n",
       "       'Mac OS X 10.12', 'Mac OS X 10.13', 'Mac OS X 10.6',\n",
       "       'Mac OS X 10.9', 'Mac OS X 10_10_5', 'Mac OS X 10_11_3',\n",
       "       'Mac OS X 10_11_4', 'Mac OS X 10_11_5', 'Mac OS X 10_11_6',\n",
       "       'Mac OS X 10_12', 'Mac OS X 10_12_1', 'Mac OS X 10_12_2',\n",
       "       'Mac OS X 10_12_3', 'Mac OS X 10_12_4', 'Mac OS X 10_12_5',\n",
       "       'Mac OS X 10_12_6', 'Mac OS X 10_13_1', 'Mac OS X 10_13_2',\n",
       "       'Mac OS X 10_13_3', 'Mac OS X 10_13_4', 'Mac OS X 10_13_5',\n",
       "       'Mac OS X 10_6_8', 'Mac OS X 10_7_5', 'Mac OS X 10_8_5',\n",
       "       'Mac OS X 10_9_5', 'Windows', 'Windows 10', 'Windows 7',\n",
       "       'Windows 8', 'Windows 8.1', 'Windows Vista', 'Windows XP', 'func',\n",
       "       'iOS', 'iOS 10.0.2', 'iOS 10.1.1', 'iOS 10.2.0', 'iOS 10.2.1',\n",
       "       'iOS 10.3.1', 'iOS 10.3.2', 'iOS 10.3.3', 'iOS 11.0.0',\n",
       "       'iOS 11.0.1', 'iOS 11.0.2', 'iOS 11.0.3', 'iOS 11.1.0',\n",
       "       'iOS 11.1.1', 'iOS 11.1.2', 'iOS 11.2.0', 'iOS 11.2.1',\n",
       "       'iOS 11.2.2', 'iOS 11.2.5', 'iOS 11.2.6', 'iOS 11.3.0',\n",
       "       'iOS 11.3.1', 'iOS 11.4.0', 'iOS 11.4.1', 'iOS 9.3.5', 'nan',\n",
       "       'other'], dtype='<U16')"
      ]
     },
     "execution_count": 44,
     "metadata": {},
     "output_type": "execute_result"
    }
   ],
   "source": [
    "device_type"
   ]
  },
  {
   "cell_type": "code",
   "execution_count": 46,
   "metadata": {},
   "outputs": [],
   "source": [
    "browser_type = train_identity['id_31'].unique().astype(str)"
   ]
  },
  {
   "cell_type": "code",
   "execution_count": 48,
   "metadata": {},
   "outputs": [],
   "source": [
    "browser_type.sort()"
   ]
  },
  {
   "cell_type": "code",
   "execution_count": 49,
   "metadata": {},
   "outputs": [
    {
     "data": {
      "text/plain": [
       "array(['BLU/Dash', 'Cherry', 'Generic/Android', 'Generic/Android 7.0',\n",
       "       'Inco/Minion', 'LG/K-200', 'Lanix/Ilium', 'M4Tel/M4',\n",
       "       'Microsoft/Windows', 'Mozilla/Firefox', 'Nokia/Lumia',\n",
       "       'Samsung/SCH', 'Samsung/SM-G531H', 'Samsung/SM-G532M', 'ZTE/Blade',\n",
       "       'android', 'android browser 4.0', 'android webview 4.0', 'aol',\n",
       "       'chrome', 'chrome 43.0 for android', 'chrome 46.0 for android',\n",
       "       'chrome 49.0', 'chrome 49.0 for android',\n",
       "       'chrome 50.0 for android', 'chrome 51.0',\n",
       "       'chrome 51.0 for android', 'chrome 52.0 for android',\n",
       "       'chrome 53.0 for android', 'chrome 54.0 for android',\n",
       "       'chrome 55.0', 'chrome 55.0 for android', 'chrome 56.0',\n",
       "       'chrome 56.0 for android', 'chrome 57.0',\n",
       "       'chrome 57.0 for android', 'chrome 58.0',\n",
       "       'chrome 58.0 for android', 'chrome 59.0',\n",
       "       'chrome 59.0 for android', 'chrome 60.0',\n",
       "       'chrome 60.0 for android', 'chrome 61.0',\n",
       "       'chrome 61.0 for android', 'chrome 62.0',\n",
       "       'chrome 62.0 for android', 'chrome 62.0 for ios', 'chrome 63.0',\n",
       "       'chrome 63.0 for android', 'chrome 63.0 for ios', 'chrome 64.0',\n",
       "       'chrome 64.0 for android', 'chrome 64.0 for ios', 'chrome 65.0',\n",
       "       'chrome 65.0 for android', 'chrome 65.0 for ios', 'chrome 66.0',\n",
       "       'chrome 66.0 for android', 'chrome 66.0 for ios', 'chrome 67.0',\n",
       "       'chrome 67.0 for android', 'chrome 69.0', 'chrome generic',\n",
       "       'chrome generic for android', 'chromium', 'comodo', 'cyberfox',\n",
       "       'edge', 'edge 13.0', 'edge 14.0', 'edge 15.0', 'edge 16.0',\n",
       "       'edge 17.0', 'facebook', 'firefox', 'firefox 47.0', 'firefox 48.0',\n",
       "       'firefox 52.0', 'firefox 55.0', 'firefox 56.0', 'firefox 57.0',\n",
       "       'firefox 58.0', 'firefox 59.0', 'firefox 60.0', 'firefox generic',\n",
       "       'firefox mobile 61.0', 'google', 'google search application 48.0',\n",
       "       'google search application 49.0', 'icedragon', 'ie',\n",
       "       'ie 11.0 for desktop', 'ie 11.0 for tablet', 'iron', 'line',\n",
       "       'maxthon', 'mobile', 'mobile safari 10.0', 'mobile safari 11.0',\n",
       "       'mobile safari 8.0', 'mobile safari 9.0', 'mobile safari generic',\n",
       "       'mobile safari uiwebview', 'nan', 'opera', 'opera 49.0',\n",
       "       'opera 51.0', 'opera 52.0', 'opera 53.0', 'opera generic', 'other',\n",
       "       'palemoon', 'puffin', 'safari', 'safari 10.0', 'safari 11.0',\n",
       "       'safari 9.0', 'safari generic', 'samsung', 'samsung browser 3.3',\n",
       "       'samsung browser 4.0', 'samsung browser 4.2',\n",
       "       'samsung browser 5.2', 'samsung browser 5.4',\n",
       "       'samsung browser 6.2', 'samsung browser 6.4',\n",
       "       'samsung browser 7.0', 'samsung browser generic', 'seamonkey',\n",
       "       'silk', 'waterfox'], dtype='<U30')"
      ]
     },
     "execution_count": 49,
     "metadata": {},
     "output_type": "execute_result"
    }
   ],
   "source": [
    "browser_type"
   ]
  },
  {
   "cell_type": "markdown",
   "metadata": {},
   "source": [
    "* id_33\n",
    "    * 解像度\n",
    "* id_34\n",
    "    * match_status"
   ]
  },
  {
   "cell_type": "code",
   "execution_count": 50,
   "metadata": {},
   "outputs": [
    {
     "data": {
      "text/plain": [
       "array(['match_status:2', 'match_status:1', nan, 'match_status:0',\n",
       "       'match_status:-1'], dtype=object)"
      ]
     },
     "execution_count": 50,
     "metadata": {},
     "output_type": "execute_result"
    }
   ],
   "source": [
    "train_identity['id_34'].unique()"
   ]
  },
  {
   "cell_type": "code",
   "execution_count": 53,
   "metadata": {},
   "outputs": [
    {
     "data": {
      "text/plain": [
       "array(['mobile', 'desktop', nan], dtype=object)"
      ]
     },
     "execution_count": 53,
     "metadata": {},
     "output_type": "execute_result"
    }
   ],
   "source": [
    "train_identity['DeviceType'].unique()"
   ]
  },
  {
   "cell_type": "code",
   "execution_count": 54,
   "metadata": {},
   "outputs": [
    {
     "data": {
      "text/plain": [
       "array(['SAMSUNG SM-G892A Build/NRD90M', 'iOS Device', 'Windows', ...,\n",
       "       'LDN-LX3 Build/HUAWEILDN-LX3', 'Z955A', 'LG-E975'], dtype=object)"
      ]
     },
     "execution_count": 54,
     "metadata": {},
     "output_type": "execute_result"
    }
   ],
   "source": [
    "train_identity['DeviceInfo'].unique()"
   ]
  }
 ],
 "metadata": {
  "kernelspec": {
   "display_name": "Python 3",
   "language": "python",
   "name": "python3"
  },
  "language_info": {
   "codemirror_mode": {
    "name": "ipython",
    "version": 3
   },
   "file_extension": ".py",
   "mimetype": "text/x-python",
   "name": "python",
   "nbconvert_exporter": "python",
   "pygments_lexer": "ipython3",
   "version": "3.7.3"
  }
 },
 "nbformat": 4,
 "nbformat_minor": 2
}
