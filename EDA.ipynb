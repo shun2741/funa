{
 "cells": [
  {
   "cell_type": "code",
   "execution_count": 1,
   "metadata": {},
   "outputs": [],
   "source": [
    "import pandas as pd\n",
    "import numpy as np\n",
    "\n",
    "import matplotlib.pyplot as plt\n",
    "%matplotlib inline\n",
    "import seaborn as sns"
   ]
  },
  {
   "cell_type": "code",
   "execution_count": 2,
   "metadata": {},
   "outputs": [],
   "source": [
    "train_identity = pd.read_csv(\"../data/raw/train_identity.csv\")\n",
    "train_transaction = pd.read_csv(\"../data/raw/train_transaction.csv\")\n",
    "test_identity = pd.read_csv(\"../data/raw/test_identity.csv\")\n",
    "test_transaction = pd.read_csv(\"../data/raw/test_transaction.csv\")"
   ]
  },
  {
   "cell_type": "code",
   "execution_count": 3,
   "metadata": {},
   "outputs": [
    {
     "name": "stdout",
     "output_type": "stream",
     "text": [
      "train_idnetity: (144233, 41)\n",
      "train_transaction: (590540, 394)\n",
      "test_identity: (141907, 41)\n",
      "test_transaction: (506691, 393)\n"
     ]
    }
   ],
   "source": [
    "print(f'train_idnetity: {train_identity.shape}')\n",
    "print(f'train_transaction: {train_transaction.shape}')\n",
    "print(f'test_identity: {test_identity.shape}')\n",
    "print(f'test_transaction: {test_transaction.shape}')"
   ]
  },
  {
   "cell_type": "code",
   "execution_count": 11,
   "metadata": {},
   "outputs": [
    {
     "data": {
      "text/html": [
       "<div>\n",
       "<style scoped>\n",
       "    .dataframe tbody tr th:only-of-type {\n",
       "        vertical-align: middle;\n",
       "    }\n",
       "\n",
       "    .dataframe tbody tr th {\n",
       "        vertical-align: top;\n",
       "    }\n",
       "\n",
       "    .dataframe thead th {\n",
       "        text-align: right;\n",
       "    }\n",
       "</style>\n",
       "<table border=\"1\" class=\"dataframe\">\n",
       "  <thead>\n",
       "    <tr style=\"text-align: right;\">\n",
       "      <th></th>\n",
       "      <th>TransactionID</th>\n",
       "      <th>id_01</th>\n",
       "      <th>id_02</th>\n",
       "      <th>id_03</th>\n",
       "      <th>id_04</th>\n",
       "      <th>id_05</th>\n",
       "      <th>id_06</th>\n",
       "      <th>id_07</th>\n",
       "      <th>id_08</th>\n",
       "      <th>id_09</th>\n",
       "      <th>...</th>\n",
       "      <th>id_31</th>\n",
       "      <th>id_32</th>\n",
       "      <th>id_33</th>\n",
       "      <th>id_34</th>\n",
       "      <th>id_35</th>\n",
       "      <th>id_36</th>\n",
       "      <th>id_37</th>\n",
       "      <th>id_38</th>\n",
       "      <th>DeviceType</th>\n",
       "      <th>DeviceInfo</th>\n",
       "    </tr>\n",
       "  </thead>\n",
       "  <tbody>\n",
       "    <tr>\n",
       "      <th>0</th>\n",
       "      <td>2987004</td>\n",
       "      <td>0.0</td>\n",
       "      <td>70787.0</td>\n",
       "      <td>NaN</td>\n",
       "      <td>NaN</td>\n",
       "      <td>NaN</td>\n",
       "      <td>NaN</td>\n",
       "      <td>NaN</td>\n",
       "      <td>NaN</td>\n",
       "      <td>NaN</td>\n",
       "      <td>...</td>\n",
       "      <td>samsung browser 6.2</td>\n",
       "      <td>32.0</td>\n",
       "      <td>2220x1080</td>\n",
       "      <td>match_status:2</td>\n",
       "      <td>T</td>\n",
       "      <td>F</td>\n",
       "      <td>T</td>\n",
       "      <td>T</td>\n",
       "      <td>mobile</td>\n",
       "      <td>SAMSUNG SM-G892A Build/NRD90M</td>\n",
       "    </tr>\n",
       "    <tr>\n",
       "      <th>1</th>\n",
       "      <td>2987008</td>\n",
       "      <td>-5.0</td>\n",
       "      <td>98945.0</td>\n",
       "      <td>NaN</td>\n",
       "      <td>NaN</td>\n",
       "      <td>0.0</td>\n",
       "      <td>-5.0</td>\n",
       "      <td>NaN</td>\n",
       "      <td>NaN</td>\n",
       "      <td>NaN</td>\n",
       "      <td>...</td>\n",
       "      <td>mobile safari 11.0</td>\n",
       "      <td>32.0</td>\n",
       "      <td>1334x750</td>\n",
       "      <td>match_status:1</td>\n",
       "      <td>T</td>\n",
       "      <td>F</td>\n",
       "      <td>F</td>\n",
       "      <td>T</td>\n",
       "      <td>mobile</td>\n",
       "      <td>iOS Device</td>\n",
       "    </tr>\n",
       "    <tr>\n",
       "      <th>2</th>\n",
       "      <td>2987010</td>\n",
       "      <td>-5.0</td>\n",
       "      <td>191631.0</td>\n",
       "      <td>0.0</td>\n",
       "      <td>0.0</td>\n",
       "      <td>0.0</td>\n",
       "      <td>0.0</td>\n",
       "      <td>NaN</td>\n",
       "      <td>NaN</td>\n",
       "      <td>0.0</td>\n",
       "      <td>...</td>\n",
       "      <td>chrome 62.0</td>\n",
       "      <td>NaN</td>\n",
       "      <td>NaN</td>\n",
       "      <td>NaN</td>\n",
       "      <td>F</td>\n",
       "      <td>F</td>\n",
       "      <td>T</td>\n",
       "      <td>T</td>\n",
       "      <td>desktop</td>\n",
       "      <td>Windows</td>\n",
       "    </tr>\n",
       "    <tr>\n",
       "      <th>3</th>\n",
       "      <td>2987011</td>\n",
       "      <td>-5.0</td>\n",
       "      <td>221832.0</td>\n",
       "      <td>NaN</td>\n",
       "      <td>NaN</td>\n",
       "      <td>0.0</td>\n",
       "      <td>-6.0</td>\n",
       "      <td>NaN</td>\n",
       "      <td>NaN</td>\n",
       "      <td>NaN</td>\n",
       "      <td>...</td>\n",
       "      <td>chrome 62.0</td>\n",
       "      <td>NaN</td>\n",
       "      <td>NaN</td>\n",
       "      <td>NaN</td>\n",
       "      <td>F</td>\n",
       "      <td>F</td>\n",
       "      <td>T</td>\n",
       "      <td>T</td>\n",
       "      <td>desktop</td>\n",
       "      <td>NaN</td>\n",
       "    </tr>\n",
       "    <tr>\n",
       "      <th>4</th>\n",
       "      <td>2987016</td>\n",
       "      <td>0.0</td>\n",
       "      <td>7460.0</td>\n",
       "      <td>0.0</td>\n",
       "      <td>0.0</td>\n",
       "      <td>1.0</td>\n",
       "      <td>0.0</td>\n",
       "      <td>NaN</td>\n",
       "      <td>NaN</td>\n",
       "      <td>0.0</td>\n",
       "      <td>...</td>\n",
       "      <td>chrome 62.0</td>\n",
       "      <td>24.0</td>\n",
       "      <td>1280x800</td>\n",
       "      <td>match_status:2</td>\n",
       "      <td>T</td>\n",
       "      <td>F</td>\n",
       "      <td>T</td>\n",
       "      <td>T</td>\n",
       "      <td>desktop</td>\n",
       "      <td>MacOS</td>\n",
       "    </tr>\n",
       "  </tbody>\n",
       "</table>\n",
       "<p>5 rows × 41 columns</p>\n",
       "</div>"
      ],
      "text/plain": [
       "   TransactionID  id_01     id_02  id_03  id_04  id_05  id_06  id_07  id_08  \\\n",
       "0        2987004    0.0   70787.0    NaN    NaN    NaN    NaN    NaN    NaN   \n",
       "1        2987008   -5.0   98945.0    NaN    NaN    0.0   -5.0    NaN    NaN   \n",
       "2        2987010   -5.0  191631.0    0.0    0.0    0.0    0.0    NaN    NaN   \n",
       "3        2987011   -5.0  221832.0    NaN    NaN    0.0   -6.0    NaN    NaN   \n",
       "4        2987016    0.0    7460.0    0.0    0.0    1.0    0.0    NaN    NaN   \n",
       "\n",
       "   id_09  ...                id_31  id_32      id_33           id_34  id_35  \\\n",
       "0    NaN  ...  samsung browser 6.2   32.0  2220x1080  match_status:2      T   \n",
       "1    NaN  ...   mobile safari 11.0   32.0   1334x750  match_status:1      T   \n",
       "2    0.0  ...          chrome 62.0    NaN        NaN             NaN      F   \n",
       "3    NaN  ...          chrome 62.0    NaN        NaN             NaN      F   \n",
       "4    0.0  ...          chrome 62.0   24.0   1280x800  match_status:2      T   \n",
       "\n",
       "  id_36 id_37  id_38  DeviceType                     DeviceInfo  \n",
       "0     F     T      T      mobile  SAMSUNG SM-G892A Build/NRD90M  \n",
       "1     F     F      T      mobile                     iOS Device  \n",
       "2     F     T      T     desktop                        Windows  \n",
       "3     F     T      T     desktop                            NaN  \n",
       "4     F     T      T     desktop                          MacOS  \n",
       "\n",
       "[5 rows x 41 columns]"
      ]
     },
     "execution_count": 11,
     "metadata": {},
     "output_type": "execute_result"
    }
   ],
   "source": [
    "train_identity.head()"
   ]
  },
  {
   "cell_type": "code",
   "execution_count": 4,
   "metadata": {},
   "outputs": [],
   "source": [
    "train_merge = pd.merge(train_transaction, train_identity, on=\"TransactionID\", how=\"left\")"
   ]
  },
  {
   "cell_type": "code",
   "execution_count": 12,
   "metadata": {},
   "outputs": [
    {
     "data": {
      "text/html": [
       "<div>\n",
       "<style scoped>\n",
       "    .dataframe tbody tr th:only-of-type {\n",
       "        vertical-align: middle;\n",
       "    }\n",
       "\n",
       "    .dataframe tbody tr th {\n",
       "        vertical-align: top;\n",
       "    }\n",
       "\n",
       "    .dataframe thead th {\n",
       "        text-align: right;\n",
       "    }\n",
       "</style>\n",
       "<table border=\"1\" class=\"dataframe\">\n",
       "  <thead>\n",
       "    <tr style=\"text-align: right;\">\n",
       "      <th></th>\n",
       "      <th>TransactionID</th>\n",
       "      <th>isFraud</th>\n",
       "      <th>TransactionDT</th>\n",
       "      <th>TransactionAmt</th>\n",
       "      <th>ProductCD</th>\n",
       "      <th>card1</th>\n",
       "      <th>card2</th>\n",
       "      <th>card3</th>\n",
       "      <th>card4</th>\n",
       "      <th>card5</th>\n",
       "      <th>...</th>\n",
       "      <th>V330</th>\n",
       "      <th>V331</th>\n",
       "      <th>V332</th>\n",
       "      <th>V333</th>\n",
       "      <th>V334</th>\n",
       "      <th>V335</th>\n",
       "      <th>V336</th>\n",
       "      <th>V337</th>\n",
       "      <th>V338</th>\n",
       "      <th>V339</th>\n",
       "    </tr>\n",
       "  </thead>\n",
       "  <tbody>\n",
       "    <tr>\n",
       "      <th>0</th>\n",
       "      <td>2987000</td>\n",
       "      <td>0</td>\n",
       "      <td>86400</td>\n",
       "      <td>68.5</td>\n",
       "      <td>W</td>\n",
       "      <td>13926</td>\n",
       "      <td>NaN</td>\n",
       "      <td>150.0</td>\n",
       "      <td>discover</td>\n",
       "      <td>142.0</td>\n",
       "      <td>...</td>\n",
       "      <td>NaN</td>\n",
       "      <td>NaN</td>\n",
       "      <td>NaN</td>\n",
       "      <td>NaN</td>\n",
       "      <td>NaN</td>\n",
       "      <td>NaN</td>\n",
       "      <td>NaN</td>\n",
       "      <td>NaN</td>\n",
       "      <td>NaN</td>\n",
       "      <td>NaN</td>\n",
       "    </tr>\n",
       "    <tr>\n",
       "      <th>1</th>\n",
       "      <td>2987001</td>\n",
       "      <td>0</td>\n",
       "      <td>86401</td>\n",
       "      <td>29.0</td>\n",
       "      <td>W</td>\n",
       "      <td>2755</td>\n",
       "      <td>404.0</td>\n",
       "      <td>150.0</td>\n",
       "      <td>mastercard</td>\n",
       "      <td>102.0</td>\n",
       "      <td>...</td>\n",
       "      <td>NaN</td>\n",
       "      <td>NaN</td>\n",
       "      <td>NaN</td>\n",
       "      <td>NaN</td>\n",
       "      <td>NaN</td>\n",
       "      <td>NaN</td>\n",
       "      <td>NaN</td>\n",
       "      <td>NaN</td>\n",
       "      <td>NaN</td>\n",
       "      <td>NaN</td>\n",
       "    </tr>\n",
       "    <tr>\n",
       "      <th>2</th>\n",
       "      <td>2987002</td>\n",
       "      <td>0</td>\n",
       "      <td>86469</td>\n",
       "      <td>59.0</td>\n",
       "      <td>W</td>\n",
       "      <td>4663</td>\n",
       "      <td>490.0</td>\n",
       "      <td>150.0</td>\n",
       "      <td>visa</td>\n",
       "      <td>166.0</td>\n",
       "      <td>...</td>\n",
       "      <td>NaN</td>\n",
       "      <td>NaN</td>\n",
       "      <td>NaN</td>\n",
       "      <td>NaN</td>\n",
       "      <td>NaN</td>\n",
       "      <td>NaN</td>\n",
       "      <td>NaN</td>\n",
       "      <td>NaN</td>\n",
       "      <td>NaN</td>\n",
       "      <td>NaN</td>\n",
       "    </tr>\n",
       "    <tr>\n",
       "      <th>3</th>\n",
       "      <td>2987003</td>\n",
       "      <td>0</td>\n",
       "      <td>86499</td>\n",
       "      <td>50.0</td>\n",
       "      <td>W</td>\n",
       "      <td>18132</td>\n",
       "      <td>567.0</td>\n",
       "      <td>150.0</td>\n",
       "      <td>mastercard</td>\n",
       "      <td>117.0</td>\n",
       "      <td>...</td>\n",
       "      <td>NaN</td>\n",
       "      <td>NaN</td>\n",
       "      <td>NaN</td>\n",
       "      <td>NaN</td>\n",
       "      <td>NaN</td>\n",
       "      <td>NaN</td>\n",
       "      <td>NaN</td>\n",
       "      <td>NaN</td>\n",
       "      <td>NaN</td>\n",
       "      <td>NaN</td>\n",
       "    </tr>\n",
       "    <tr>\n",
       "      <th>4</th>\n",
       "      <td>2987004</td>\n",
       "      <td>0</td>\n",
       "      <td>86506</td>\n",
       "      <td>50.0</td>\n",
       "      <td>H</td>\n",
       "      <td>4497</td>\n",
       "      <td>514.0</td>\n",
       "      <td>150.0</td>\n",
       "      <td>mastercard</td>\n",
       "      <td>102.0</td>\n",
       "      <td>...</td>\n",
       "      <td>0.0</td>\n",
       "      <td>0.0</td>\n",
       "      <td>0.0</td>\n",
       "      <td>0.0</td>\n",
       "      <td>0.0</td>\n",
       "      <td>0.0</td>\n",
       "      <td>0.0</td>\n",
       "      <td>0.0</td>\n",
       "      <td>0.0</td>\n",
       "      <td>0.0</td>\n",
       "    </tr>\n",
       "  </tbody>\n",
       "</table>\n",
       "<p>5 rows × 394 columns</p>\n",
       "</div>"
      ],
      "text/plain": [
       "   TransactionID  isFraud  TransactionDT  TransactionAmt ProductCD  card1  \\\n",
       "0        2987000        0          86400            68.5         W  13926   \n",
       "1        2987001        0          86401            29.0         W   2755   \n",
       "2        2987002        0          86469            59.0         W   4663   \n",
       "3        2987003        0          86499            50.0         W  18132   \n",
       "4        2987004        0          86506            50.0         H   4497   \n",
       "\n",
       "   card2  card3       card4  card5  ... V330  V331  V332  V333  V334 V335  \\\n",
       "0    NaN  150.0    discover  142.0  ...  NaN   NaN   NaN   NaN   NaN  NaN   \n",
       "1  404.0  150.0  mastercard  102.0  ...  NaN   NaN   NaN   NaN   NaN  NaN   \n",
       "2  490.0  150.0        visa  166.0  ...  NaN   NaN   NaN   NaN   NaN  NaN   \n",
       "3  567.0  150.0  mastercard  117.0  ...  NaN   NaN   NaN   NaN   NaN  NaN   \n",
       "4  514.0  150.0  mastercard  102.0  ...  0.0   0.0   0.0   0.0   0.0  0.0   \n",
       "\n",
       "  V336  V337  V338  V339  \n",
       "0  NaN   NaN   NaN   NaN  \n",
       "1  NaN   NaN   NaN   NaN  \n",
       "2  NaN   NaN   NaN   NaN  \n",
       "3  NaN   NaN   NaN   NaN  \n",
       "4  0.0   0.0   0.0   0.0  \n",
       "\n",
       "[5 rows x 394 columns]"
      ]
     },
     "execution_count": 12,
     "metadata": {},
     "output_type": "execute_result"
    }
   ],
   "source": [
    "train_transaction.head()"
   ]
  },
  {
   "cell_type": "markdown",
   "metadata": {},
   "source": [
    "## transaction"
   ]
  },
  {
   "cell_type": "code",
   "execution_count": 13,
   "metadata": {},
   "outputs": [
    {
     "data": {
      "text/plain": [
       "array(['W', 'H', 'C', 'S', 'R'], dtype=object)"
      ]
     },
     "execution_count": 13,
     "metadata": {},
     "output_type": "execute_result"
    }
   ],
   "source": [
    "train_transaction[\"ProductCD\"].unique()"
   ]
  },
  {
   "cell_type": "code",
   "execution_count": 14,
   "metadata": {},
   "outputs": [
    {
     "name": "stdout",
     "output_type": "stream",
     "text": [
      "card1 nunique: 13553\n",
      "card2 nunique: 500\n",
      "card3 nunique: 114\n",
      "card4 nunique: 4\n",
      "card5 nunique: 119\n",
      "card6 nunique: 4\n"
     ]
    }
   ],
   "source": [
    "for card in [\"card1\", \"card2\", \"card3\", \"card4\", \"card5\", \"card6\"]:\n",
    "    print(f'{card} nunique: {train_transaction[card].nunique()}')"
   ]
  },
  {
   "cell_type": "code",
   "execution_count": 15,
   "metadata": {},
   "outputs": [
    {
     "data": {
      "text/plain": [
       "array(['discover', 'mastercard', 'visa', 'american express', nan],\n",
       "      dtype=object)"
      ]
     },
     "execution_count": 15,
     "metadata": {},
     "output_type": "execute_result"
    }
   ],
   "source": [
    "train_transaction['card4'].unique()"
   ]
  },
  {
   "cell_type": "code",
   "execution_count": 16,
   "metadata": {},
   "outputs": [
    {
     "data": {
      "text/plain": [
       "array(['credit', 'debit', nan, 'debit or credit', 'charge card'],\n",
       "      dtype=object)"
      ]
     },
     "execution_count": 16,
     "metadata": {},
     "output_type": "execute_result"
    }
   ],
   "source": [
    "train_transaction['card6'].unique()"
   ]
  },
  {
   "cell_type": "code",
   "execution_count": 17,
   "metadata": {},
   "outputs": [
    {
     "name": "stdout",
     "output_type": "stream",
     "text": [
      "addr1 nunique: 332\n",
      "addr2 nunique: 74\n"
     ]
    }
   ],
   "source": [
    "for addr in [\"addr1\", \"addr2\"]:\n",
    "    print(f'{addr} nunique: {train_transaction[addr].nunique()}')"
   ]
  },
  {
   "cell_type": "code",
   "execution_count": 36,
   "metadata": {},
   "outputs": [
    {
     "data": {
      "text/plain": [
       "299.0    46335\n",
       "325.0    42751\n",
       "204.0    42020\n",
       "264.0    39870\n",
       "330.0    26287\n",
       "315.0    23078\n",
       "441.0    20827\n",
       "272.0    20141\n",
       "123.0    16105\n",
       "126.0    15243\n",
       "184.0    15160\n",
       "337.0    15149\n",
       "191.0    14979\n",
       "181.0    13856\n",
       "143.0     9806\n",
       "476.0     9478\n",
       "310.0     8486\n",
       "472.0     8478\n",
       "327.0     8425\n",
       "512.0     8268\n",
       "387.0     8187\n",
       "433.0     7831\n",
       "231.0     7605\n",
       "485.0     6816\n",
       "269.0     6404\n",
       "205.0     5725\n",
       "225.0     5323\n",
       "251.0     5216\n",
       "494.0     5065\n",
       "220.0     5041\n",
       "         ...  \n",
       "190.0        1\n",
       "493.0        1\n",
       "279.0        1\n",
       "195.0        1\n",
       "196.0        1\n",
       "338.0        1\n",
       "200.0        1\n",
       "335.0        1\n",
       "333.0        1\n",
       "489.0        1\n",
       "331.0        1\n",
       "457.0        1\n",
       "206.0        1\n",
       "329.0        1\n",
       "211.0        1\n",
       "213.0        1\n",
       "328.0        1\n",
       "458.0        1\n",
       "326.0        1\n",
       "323.0        1\n",
       "217.0        1\n",
       "219.0        1\n",
       "318.0        1\n",
       "316.0        1\n",
       "223.0        1\n",
       "462.0        1\n",
       "128.0        1\n",
       "481.0        1\n",
       "120.0        1\n",
       "340.0        1\n",
       "Name: addr1, Length: 332, dtype: int64"
      ]
     },
     "execution_count": 36,
     "metadata": {},
     "output_type": "execute_result"
    }
   ],
   "source": [
    "train_transaction[\"addr1\"].value_counts()"
   ]
  },
  {
   "cell_type": "code",
   "execution_count": 83,
   "metadata": {},
   "outputs": [
    {
     "data": {
      "text/plain": [
       "array([ 87.,  nan,  96.,  35.,  60.,  98.,  43.,  65.,  32.,  13.,  31.,\n",
       "       101.,  24.,  16.,  15.,  19.,  71.,  59., 102.,  44.,  26.,  69.,\n",
       "        47.,  78.,  88.,  66.,  72.,  22.,  57.,  25.,  17.,  30.,  29.,\n",
       "        21.,  14.,  49.,  83.,  75.,  34.,  86.,  48.,  68.,  23.,  70.,\n",
       "        62.,  54.,  50.,  52.,  39.,  76.,  10.,  73.,  97.,  63.,  27.,\n",
       "        28.,  38.,  74.,  77.,  92.,  79.,  84.,  82.,  40.,  36.,  46.,\n",
       "        18.,  20.,  89.,  61.,  94., 100.,  55.,  51.,  93.])"
      ]
     },
     "execution_count": 83,
     "metadata": {},
     "output_type": "execute_result"
    }
   ],
   "source": [
    "train_transaction[\"addr2\"].unique()"
   ]
  },
  {
   "cell_type": "code",
   "execution_count": 80,
   "metadata": {},
   "outputs": [
    {
     "name": "stdout",
     "output_type": "stream",
     "text": [
      "dist1 nunique: 2651\n",
      "dist2 nunique: 1751\n"
     ]
    }
   ],
   "source": [
    "for addr in [\"dist1\", \"dist2\"]:\n",
    "    print(f'{addr} nunique: {train_transaction[addr].nunique()}')"
   ]
  },
  {
   "cell_type": "code",
   "execution_count": 84,
   "metadata": {},
   "outputs": [
    {
     "data": {
      "text/html": [
       "<div>\n",
       "<style scoped>\n",
       "    .dataframe tbody tr th:only-of-type {\n",
       "        vertical-align: middle;\n",
       "    }\n",
       "\n",
       "    .dataframe tbody tr th {\n",
       "        vertical-align: top;\n",
       "    }\n",
       "\n",
       "    .dataframe thead th {\n",
       "        text-align: right;\n",
       "    }\n",
       "</style>\n",
       "<table border=\"1\" class=\"dataframe\">\n",
       "  <thead>\n",
       "    <tr style=\"text-align: right;\">\n",
       "      <th></th>\n",
       "      <th>dist1</th>\n",
       "      <th>dist2</th>\n",
       "    </tr>\n",
       "  </thead>\n",
       "  <tbody>\n",
       "    <tr>\n",
       "      <th>0</th>\n",
       "      <td>19.0</td>\n",
       "      <td>NaN</td>\n",
       "    </tr>\n",
       "    <tr>\n",
       "      <th>1</th>\n",
       "      <td>NaN</td>\n",
       "      <td>NaN</td>\n",
       "    </tr>\n",
       "    <tr>\n",
       "      <th>2</th>\n",
       "      <td>287.0</td>\n",
       "      <td>NaN</td>\n",
       "    </tr>\n",
       "    <tr>\n",
       "      <th>3</th>\n",
       "      <td>NaN</td>\n",
       "      <td>NaN</td>\n",
       "    </tr>\n",
       "    <tr>\n",
       "      <th>4</th>\n",
       "      <td>NaN</td>\n",
       "      <td>NaN</td>\n",
       "    </tr>\n",
       "  </tbody>\n",
       "</table>\n",
       "</div>"
      ],
      "text/plain": [
       "   dist1  dist2\n",
       "0   19.0    NaN\n",
       "1    NaN    NaN\n",
       "2  287.0    NaN\n",
       "3    NaN    NaN\n",
       "4    NaN    NaN"
      ]
     },
     "execution_count": 84,
     "metadata": {},
     "output_type": "execute_result"
    }
   ],
   "source": [
    "train_transaction[[\"dist1\", \"dist2\"]].head()"
   ]
  },
  {
   "cell_type": "code",
   "execution_count": 18,
   "metadata": {},
   "outputs": [
    {
     "name": "stdout",
     "output_type": "stream",
     "text": [
      "P_emaildomain nunique: 59\n",
      "R_emaildomain nunique: 60\n"
     ]
    }
   ],
   "source": [
    "for domain in ['P_emaildomain' , 'R_emaildomain']:\n",
    "    print(f'{domain} nunique: {train_transaction[domain].nunique()}')"
   ]
  },
  {
   "cell_type": "code",
   "execution_count": 19,
   "metadata": {},
   "outputs": [
    {
     "data": {
      "text/plain": [
       "array([nan, 'gmail.com', 'outlook.com', 'yahoo.com', 'mail.com',\n",
       "       'anonymous.com', 'hotmail.com', 'verizon.net', 'aol.com', 'me.com',\n",
       "       'comcast.net', 'optonline.net', 'cox.net', 'charter.net',\n",
       "       'rocketmail.com', 'prodigy.net.mx', 'embarqmail.com', 'icloud.com',\n",
       "       'live.com.mx', 'gmail', 'live.com', 'att.net', 'juno.com',\n",
       "       'ymail.com', 'sbcglobal.net', 'bellsouth.net', 'msn.com', 'q.com',\n",
       "       'yahoo.com.mx', 'centurylink.net', 'servicios-ta.com',\n",
       "       'earthlink.net', 'hotmail.es', 'cfl.rr.com', 'roadrunner.com',\n",
       "       'netzero.net', 'gmx.de', 'suddenlink.net', 'frontiernet.net',\n",
       "       'windstream.net', 'frontier.com', 'outlook.es', 'mac.com',\n",
       "       'netzero.com', 'aim.com', 'web.de', 'twc.com', 'cableone.net',\n",
       "       'yahoo.fr', 'yahoo.de', 'yahoo.es', 'sc.rr.com', 'ptd.net',\n",
       "       'live.fr', 'yahoo.co.uk', 'hotmail.fr', 'hotmail.de',\n",
       "       'hotmail.co.uk', 'protonmail.com', 'yahoo.co.jp'], dtype=object)"
      ]
     },
     "execution_count": 19,
     "metadata": {},
     "output_type": "execute_result"
    }
   ],
   "source": [
    "train_transaction['P_emaildomain'].unique()"
   ]
  },
  {
   "cell_type": "code",
   "execution_count": 20,
   "metadata": {},
   "outputs": [
    {
     "data": {
      "text/plain": [
       "array([nan, 'gmail.com', 'hotmail.com', 'outlook.com', 'anonymous.com',\n",
       "       'charter.net', 'prodigy.net.mx', 'comcast.net', 'live.com.mx',\n",
       "       'icloud.com', 'yahoo.com', 'aol.com', 'juno.com', 'att.net',\n",
       "       'verizon.net', 'yahoo.com.mx', 'bellsouth.net', 'servicios-ta.com',\n",
       "       'ymail.com', 'hotmail.es', 'msn.com', 'optonline.net', 'live.com',\n",
       "       'gmx.de', 'aim.com', 'mail.com', 'me.com', 'outlook.es', 'cox.net',\n",
       "       'earthlink.net', 'embarqmail.com', 'web.de', 'sbcglobal.net',\n",
       "       'scranton.edu', 'mac.com', 'twc.com', 'roadrunner.com', 'yahoo.fr',\n",
       "       'yahoo.de', 'yahoo.es', 'frontiernet.net', 'gmail', 'live.fr',\n",
       "       'q.com', 'yahoo.co.uk', 'windstream.net', 'suddenlink.net',\n",
       "       'hotmail.fr', 'ptd.net', 'hotmail.de', 'frontier.com',\n",
       "       'cfl.rr.com', 'hotmail.co.uk', 'netzero.com', 'netzero.net',\n",
       "       'yahoo.co.jp', 'rocketmail.com', 'centurylink.net',\n",
       "       'protonmail.com', 'cableone.net', 'sc.rr.com'], dtype=object)"
      ]
     },
     "execution_count": 20,
     "metadata": {},
     "output_type": "execute_result"
    }
   ],
   "source": [
    "train_transaction['R_emaildomain'].unique()"
   ]
  },
  {
   "cell_type": "code",
   "execution_count": 41,
   "metadata": {},
   "outputs": [
    {
     "name": "stdout",
     "output_type": "stream",
     "text": [
      "TransactionID Nan percentage: 0.0\n",
      "isFraud Nan percentage: 0.0\n",
      "TransactionDT Nan percentage: 0.0\n",
      "TransactionAmt Nan percentage: 0.0\n",
      "ProductCD Nan percentage: 0.0\n",
      "card1 Nan percentage: 0.0\n",
      "card2 Nan percentage: 0.015126833068039422\n",
      "card3 Nan percentage: 0.0026501168422122124\n",
      "card4 Nan percentage: 0.00267043722694483\n",
      "card5 Nan percentage: 0.007212043214684865\n",
      "card6 Nan percentage: 0.0026602770345785214\n",
      "addr1 Nan percentage: 0.1112642666034477\n",
      "addr2 Nan percentage: 0.1112642666034477\n",
      "dist1 Nan percentage: 0.596523520845328\n",
      "dist2 Nan percentage: 0.9362837403054831\n",
      "P_emaildomain Nan percentage: 0.1599485216920107\n",
      "R_emaildomain Nan percentage: 0.7675161716395164\n",
      "C1 Nan percentage: 0.0\n",
      "C2 Nan percentage: 0.0\n",
      "C3 Nan percentage: 0.0\n",
      "C4 Nan percentage: 0.0\n",
      "C5 Nan percentage: 0.0\n",
      "C6 Nan percentage: 0.0\n",
      "C7 Nan percentage: 0.0\n",
      "C8 Nan percentage: 0.0\n",
      "C9 Nan percentage: 0.0\n",
      "C10 Nan percentage: 0.0\n",
      "C11 Nan percentage: 0.0\n",
      "C12 Nan percentage: 0.0\n",
      "C13 Nan percentage: 0.0\n",
      "C14 Nan percentage: 0.0\n",
      "D1 Nan percentage: 0.0021488806854743116\n",
      "D2 Nan percentage: 0.4754919226470688\n",
      "D3 Nan percentage: 0.44514850814508755\n",
      "D4 Nan percentage: 0.2860466691502693\n",
      "D5 Nan percentage: 0.524674027161581\n",
      "D6 Nan percentage: 0.8760676668811597\n",
      "D7 Nan percentage: 0.9340992989467267\n",
      "D8 Nan percentage: 0.8731229044603245\n",
      "D9 Nan percentage: 0.8731229044603245\n",
      "D10 Nan percentage: 0.1287330240119213\n",
      "D11 Nan percentage: 0.47293494090154775\n",
      "D12 Nan percentage: 0.8904104717715988\n",
      "D13 Nan percentage: 0.8950926270870728\n",
      "D14 Nan percentage: 0.8946946862193924\n",
      "D15 Nan percentage: 0.1509008703898127\n",
      "M1 Nan percentage: 0.4590713584177194\n",
      "M2 Nan percentage: 0.4590713584177194\n",
      "M3 Nan percentage: 0.4590713584177194\n",
      "M4 Nan percentage: 0.47658753005723575\n",
      "M5 Nan percentage: 0.5934940901547736\n",
      "M6 Nan percentage: 0.28678836319300977\n",
      "M7 Nan percentage: 0.5863531682866528\n",
      "M8 Nan percentage: 0.5863311545365258\n",
      "M9 Nan percentage: 0.5863311545365258\n",
      "V1 Nan percentage: 0.47293494090154775\n",
      "V2 Nan percentage: 0.47293494090154775\n",
      "V3 Nan percentage: 0.47293494090154775\n",
      "V4 Nan percentage: 0.47293494090154775\n",
      "V5 Nan percentage: 0.47293494090154775\n",
      "V6 Nan percentage: 0.47293494090154775\n",
      "V7 Nan percentage: 0.47293494090154775\n",
      "V8 Nan percentage: 0.47293494090154775\n",
      "V9 Nan percentage: 0.47293494090154775\n",
      "V10 Nan percentage: 0.47293494090154775\n",
      "V11 Nan percentage: 0.47293494090154775\n",
      "V12 Nan percentage: 0.1288193856470349\n",
      "V13 Nan percentage: 0.1288193856470349\n",
      "V14 Nan percentage: 0.1288193856470349\n",
      "V15 Nan percentage: 0.1288193856470349\n",
      "V16 Nan percentage: 0.1288193856470349\n",
      "V17 Nan percentage: 0.1288193856470349\n",
      "V18 Nan percentage: 0.1288193856470349\n",
      "V19 Nan percentage: 0.1288193856470349\n",
      "V20 Nan percentage: 0.1288193856470349\n",
      "V21 Nan percentage: 0.1288193856470349\n",
      "V22 Nan percentage: 0.1288193856470349\n",
      "V23 Nan percentage: 0.1288193856470349\n",
      "V24 Nan percentage: 0.1288193856470349\n",
      "V25 Nan percentage: 0.1288193856470349\n",
      "V26 Nan percentage: 0.1288193856470349\n",
      "V27 Nan percentage: 0.1288193856470349\n",
      "V28 Nan percentage: 0.1288193856470349\n",
      "V29 Nan percentage: 0.1288193856470349\n",
      "V30 Nan percentage: 0.1288193856470349\n",
      "V31 Nan percentage: 0.1288193856470349\n",
      "V32 Nan percentage: 0.1288193856470349\n",
      "V33 Nan percentage: 0.1288193856470349\n",
      "V34 Nan percentage: 0.1288193856470349\n",
      "V35 Nan percentage: 0.2861262573238053\n",
      "V36 Nan percentage: 0.2861262573238053\n",
      "V37 Nan percentage: 0.2861262573238053\n",
      "V38 Nan percentage: 0.2861262573238053\n",
      "V39 Nan percentage: 0.2861262573238053\n",
      "V40 Nan percentage: 0.2861262573238053\n",
      "V41 Nan percentage: 0.2861262573238053\n",
      "V42 Nan percentage: 0.2861262573238053\n",
      "V43 Nan percentage: 0.2861262573238053\n",
      "V44 Nan percentage: 0.2861262573238053\n",
      "V45 Nan percentage: 0.2861262573238053\n",
      "V46 Nan percentage: 0.2861262573238053\n",
      "V47 Nan percentage: 0.2861262573238053\n",
      "V48 Nan percentage: 0.2861262573238053\n",
      "V49 Nan percentage: 0.2861262573238053\n",
      "V50 Nan percentage: 0.2861262573238053\n",
      "V51 Nan percentage: 0.2861262573238053\n",
      "V52 Nan percentage: 0.2861262573238053\n",
      "V53 Nan percentage: 0.13055169844549055\n",
      "V54 Nan percentage: 0.13055169844549055\n",
      "V55 Nan percentage: 0.13055169844549055\n",
      "V56 Nan percentage: 0.13055169844549055\n",
      "V57 Nan percentage: 0.13055169844549055\n",
      "V58 Nan percentage: 0.13055169844549055\n",
      "V59 Nan percentage: 0.13055169844549055\n",
      "V60 Nan percentage: 0.13055169844549055\n",
      "V61 Nan percentage: 0.13055169844549055\n",
      "V62 Nan percentage: 0.13055169844549055\n",
      "V63 Nan percentage: 0.13055169844549055\n",
      "V64 Nan percentage: 0.13055169844549055\n",
      "V65 Nan percentage: 0.13055169844549055\n",
      "V66 Nan percentage: 0.13055169844549055\n",
      "V67 Nan percentage: 0.13055169844549055\n",
      "V68 Nan percentage: 0.13055169844549055\n",
      "V69 Nan percentage: 0.13055169844549055\n",
      "V70 Nan percentage: 0.13055169844549055\n",
      "V71 Nan percentage: 0.13055169844549055\n",
      "V72 Nan percentage: 0.13055169844549055\n",
      "V73 Nan percentage: 0.13055169844549055\n",
      "V74 Nan percentage: 0.13055169844549055\n",
      "V75 Nan percentage: 0.15098723202492634\n",
      "V76 Nan percentage: 0.15098723202492634\n",
      "V77 Nan percentage: 0.15098723202492634\n",
      "V78 Nan percentage: 0.15098723202492634\n",
      "V79 Nan percentage: 0.15098723202492634\n",
      "V80 Nan percentage: 0.15098723202492634\n",
      "V81 Nan percentage: 0.15098723202492634\n",
      "V82 Nan percentage: 0.15098723202492634\n",
      "V83 Nan percentage: 0.15098723202492634\n",
      "V84 Nan percentage: 0.15098723202492634\n",
      "V85 Nan percentage: 0.15098723202492634\n",
      "V86 Nan percentage: 0.15098723202492634\n",
      "V87 Nan percentage: 0.15098723202492634\n",
      "V88 Nan percentage: 0.15098723202492634\n",
      "V89 Nan percentage: 0.15098723202492634\n",
      "V90 Nan percentage: 0.15098723202492634\n",
      "V91 Nan percentage: 0.15098723202492634\n",
      "V92 Nan percentage: 0.15098723202492634\n",
      "V93 Nan percentage: 0.15098723202492634\n",
      "V94 Nan percentage: 0.15098723202492634\n",
      "V95 Nan percentage: 0.0005317167338368274\n",
      "V96 Nan percentage: 0.0005317167338368274\n",
      "V97 Nan percentage: 0.0005317167338368274\n",
      "V98 Nan percentage: 0.0005317167338368274\n",
      "V99 Nan percentage: 0.0005317167338368274\n",
      "V100 Nan percentage: 0.0005317167338368274\n",
      "V101 Nan percentage: 0.0005317167338368274\n",
      "V102 Nan percentage: 0.0005317167338368274\n",
      "V103 Nan percentage: 0.0005317167338368274\n",
      "V104 Nan percentage: 0.0005317167338368274\n",
      "V105 Nan percentage: 0.0005317167338368274\n",
      "V106 Nan percentage: 0.0005317167338368274\n",
      "V107 Nan percentage: 0.0005317167338368274\n",
      "V108 Nan percentage: 0.0005317167338368274\n",
      "V109 Nan percentage: 0.0005317167338368274\n",
      "V110 Nan percentage: 0.0005317167338368274\n",
      "V111 Nan percentage: 0.0005317167338368274\n",
      "V112 Nan percentage: 0.0005317167338368274\n",
      "V113 Nan percentage: 0.0005317167338368274\n",
      "V114 Nan percentage: 0.0005317167338368274\n",
      "V115 Nan percentage: 0.0005317167338368274\n",
      "V116 Nan percentage: 0.0005317167338368274\n",
      "V117 Nan percentage: 0.0005317167338368274\n",
      "V118 Nan percentage: 0.0005317167338368274\n",
      "V119 Nan percentage: 0.0005317167338368274\n",
      "V120 Nan percentage: 0.0005317167338368274\n",
      "V121 Nan percentage: 0.0005317167338368274\n",
      "V122 Nan percentage: 0.0005317167338368274\n",
      "V123 Nan percentage: 0.0005317167338368274\n",
      "V124 Nan percentage: 0.0005317167338368274\n",
      "V125 Nan percentage: 0.0005317167338368274\n",
      "V126 Nan percentage: 0.0005317167338368274\n",
      "V127 Nan percentage: 0.0005317167338368274\n",
      "V128 Nan percentage: 0.0005317167338368274\n",
      "V129 Nan percentage: 0.0005317167338368274\n",
      "V130 Nan percentage: 0.0005317167338368274\n",
      "V131 Nan percentage: 0.0005317167338368274\n",
      "V132 Nan percentage: 0.0005317167338368274\n",
      "V133 Nan percentage: 0.0005317167338368274\n",
      "V134 Nan percentage: 0.0005317167338368274\n",
      "V135 Nan percentage: 0.0005317167338368274\n",
      "V136 Nan percentage: 0.0005317167338368274\n",
      "V137 Nan percentage: 0.0005317167338368274\n",
      "V138 Nan percentage: 0.8612371727571375\n",
      "V139 Nan percentage: 0.8612371727571375\n",
      "V140 Nan percentage: 0.8612371727571375\n",
      "V141 Nan percentage: 0.8612371727571375\n",
      "V142 Nan percentage: 0.8612371727571375\n",
      "V143 Nan percentage: 0.8612270125647712\n",
      "V144 Nan percentage: 0.8612270125647712\n",
      "V145 Nan percentage: 0.8612270125647712\n",
      "V146 Nan percentage: 0.8612371727571375\n",
      "V147 Nan percentage: 0.8612371727571375\n",
      "V148 Nan percentage: 0.8612371727571375\n",
      "V149 Nan percentage: 0.8612371727571375\n",
      "V150 Nan percentage: 0.8612270125647712\n",
      "V151 Nan percentage: 0.8612270125647712\n",
      "V152 Nan percentage: 0.8612270125647712\n",
      "V153 Nan percentage: 0.8612371727571375\n",
      "V154 Nan percentage: 0.8612371727571375\n",
      "V155 Nan percentage: 0.8612371727571375\n",
      "V156 Nan percentage: 0.8612371727571375\n",
      "V157 Nan percentage: 0.8612371727571375\n",
      "V158 Nan percentage: 0.8612371727571375\n",
      "V159 Nan percentage: 0.8612270125647712\n",
      "V160 Nan percentage: 0.8612270125647712\n",
      "V161 Nan percentage: 0.8612371727571375\n",
      "V162 Nan percentage: 0.8612371727571375\n",
      "V163 Nan percentage: 0.8612371727571375\n",
      "V164 Nan percentage: 0.8612270125647712\n",
      "V165 Nan percentage: 0.8612270125647712\n",
      "V166 Nan percentage: 0.8612270125647712\n",
      "V167 Nan percentage: 0.763553696616656\n",
      "V168 Nan percentage: 0.763553696616656\n",
      "V169 Nan percentage: 0.7632353439225116\n",
      "V170 Nan percentage: 0.7632353439225116\n",
      "V171 Nan percentage: 0.7632353439225116\n",
      "V172 Nan percentage: 0.763553696616656\n",
      "V173 Nan percentage: 0.763553696616656\n",
      "V174 Nan percentage: 0.7632353439225116\n",
      "V175 Nan percentage: 0.7632353439225116\n",
      "V176 Nan percentage: 0.763553696616656\n",
      "V177 Nan percentage: 0.763553696616656\n",
      "V178 Nan percentage: 0.763553696616656\n",
      "V179 Nan percentage: 0.763553696616656\n",
      "V180 Nan percentage: 0.7632353439225116\n",
      "V181 Nan percentage: 0.763553696616656\n",
      "V182 Nan percentage: 0.763553696616656\n",
      "V183 Nan percentage: 0.763553696616656\n",
      "V184 Nan percentage: 0.7632353439225116\n",
      "V185 Nan percentage: 0.7632353439225116\n",
      "V186 Nan percentage: 0.763553696616656\n",
      "V187 Nan percentage: 0.763553696616656\n",
      "V188 Nan percentage: 0.7632353439225116\n",
      "V189 Nan percentage: 0.7632353439225116\n",
      "V190 Nan percentage: 0.763553696616656\n",
      "V191 Nan percentage: 0.763553696616656\n",
      "V192 Nan percentage: 0.763553696616656\n",
      "V193 Nan percentage: 0.763553696616656\n",
      "V194 Nan percentage: 0.7632353439225116\n",
      "V195 Nan percentage: 0.7632353439225116\n",
      "V196 Nan percentage: 0.763553696616656\n",
      "V197 Nan percentage: 0.7632353439225116\n",
      "V198 Nan percentage: 0.7632353439225116\n",
      "V199 Nan percentage: 0.763553696616656\n",
      "V200 Nan percentage: 0.7632353439225116\n",
      "V201 Nan percentage: 0.7632353439225116\n",
      "V202 Nan percentage: 0.763553696616656\n",
      "V203 Nan percentage: 0.763553696616656\n",
      "V204 Nan percentage: 0.763553696616656\n",
      "V205 Nan percentage: 0.763553696616656\n",
      "V206 Nan percentage: 0.763553696616656\n",
      "V207 Nan percentage: 0.763553696616656\n",
      "V208 Nan percentage: 0.7632353439225116\n",
      "V209 Nan percentage: 0.7632353439225116\n",
      "V210 Nan percentage: 0.7632353439225116\n",
      "V211 Nan percentage: 0.763553696616656\n",
      "V212 Nan percentage: 0.763553696616656\n",
      "V213 Nan percentage: 0.763553696616656\n",
      "V214 Nan percentage: 0.763553696616656\n",
      "V215 Nan percentage: 0.763553696616656\n",
      "V216 Nan percentage: 0.763553696616656\n",
      "V217 Nan percentage: 0.7791343516103905\n",
      "V218 Nan percentage: 0.7791343516103905\n",
      "V219 Nan percentage: 0.7791343516103905\n",
      "V220 Nan percentage: 0.7605310393876791\n",
      "V221 Nan percentage: 0.7605310393876791\n",
      "V222 Nan percentage: 0.7605310393876791\n",
      "V223 Nan percentage: 0.7791343516103905\n",
      "V224 Nan percentage: 0.7791343516103905\n",
      "V225 Nan percentage: 0.7791343516103905\n",
      "V226 Nan percentage: 0.7791343516103905\n",
      "V227 Nan percentage: 0.7605310393876791\n",
      "V228 Nan percentage: 0.7791343516103905\n",
      "V229 Nan percentage: 0.7791343516103905\n",
      "V230 Nan percentage: 0.7791343516103905\n",
      "V231 Nan percentage: 0.7791343516103905\n",
      "V232 Nan percentage: 0.7791343516103905\n",
      "V233 Nan percentage: 0.7791343516103905\n",
      "V234 Nan percentage: 0.7605310393876791\n",
      "V235 Nan percentage: 0.7791343516103905\n",
      "V236 Nan percentage: 0.7791343516103905\n",
      "V237 Nan percentage: 0.7791343516103905\n",
      "V238 Nan percentage: 0.7605310393876791\n",
      "V239 Nan percentage: 0.7605310393876791\n",
      "V240 Nan percentage: 0.7791343516103905\n",
      "V241 Nan percentage: 0.7791343516103905\n",
      "V242 Nan percentage: 0.7791343516103905\n",
      "V243 Nan percentage: 0.7791343516103905\n",
      "V244 Nan percentage: 0.7791343516103905\n",
      "V245 Nan percentage: 0.7605310393876791\n",
      "V246 Nan percentage: 0.7791343516103905\n",
      "V247 Nan percentage: 0.7791343516103905\n",
      "V248 Nan percentage: 0.7791343516103905\n",
      "V249 Nan percentage: 0.7791343516103905\n",
      "V250 Nan percentage: 0.7605310393876791\n",
      "V251 Nan percentage: 0.7605310393876791\n",
      "V252 Nan percentage: 0.7791343516103905\n",
      "V253 Nan percentage: 0.7791343516103905\n",
      "V254 Nan percentage: 0.7791343516103905\n",
      "V255 Nan percentage: 0.7605310393876791\n",
      "V256 Nan percentage: 0.7605310393876791\n",
      "V257 Nan percentage: 0.7791343516103905\n",
      "V258 Nan percentage: 0.7791343516103905\n",
      "V259 Nan percentage: 0.7605310393876791\n",
      "V260 Nan percentage: 0.7791343516103905\n",
      "V261 Nan percentage: 0.7791343516103905\n",
      "V262 Nan percentage: 0.7791343516103905\n",
      "V263 Nan percentage: 0.7791343516103905\n",
      "V264 Nan percentage: 0.7791343516103905\n",
      "V265 Nan percentage: 0.7791343516103905\n",
      "V266 Nan percentage: 0.7791343516103905\n",
      "V267 Nan percentage: 0.7791343516103905\n",
      "V268 Nan percentage: 0.7791343516103905\n",
      "V269 Nan percentage: 0.7791343516103905\n",
      "V270 Nan percentage: 0.7605310393876791\n",
      "V271 Nan percentage: 0.7605310393876791\n",
      "V272 Nan percentage: 0.7605310393876791\n",
      "V273 Nan percentage: 0.7791343516103905\n",
      "V274 Nan percentage: 0.7791343516103905\n",
      "V275 Nan percentage: 0.7791343516103905\n",
      "V276 Nan percentage: 0.7791343516103905\n",
      "V277 Nan percentage: 0.7791343516103905\n",
      "V278 Nan percentage: 0.7791343516103905\n",
      "V279 Nan percentage: 2.0320384732617603e-05\n",
      "V280 Nan percentage: 2.0320384732617603e-05\n",
      "V281 Nan percentage: 0.0021488806854743116\n",
      "V282 Nan percentage: 0.0021488806854743116\n",
      "V283 Nan percentage: 0.0021488806854743116\n",
      "V284 Nan percentage: 2.0320384732617603e-05\n",
      "V285 Nan percentage: 2.0320384732617603e-05\n",
      "V286 Nan percentage: 2.0320384732617603e-05\n",
      "V287 Nan percentage: 2.0320384732617603e-05\n",
      "V288 Nan percentage: 0.0021488806854743116\n",
      "V289 Nan percentage: 0.0021488806854743116\n",
      "V290 Nan percentage: 2.0320384732617603e-05\n",
      "V291 Nan percentage: 2.0320384732617603e-05\n",
      "V292 Nan percentage: 2.0320384732617603e-05\n",
      "V293 Nan percentage: 2.0320384732617603e-05\n",
      "V294 Nan percentage: 2.0320384732617603e-05\n",
      "V295 Nan percentage: 2.0320384732617603e-05\n",
      "V296 Nan percentage: 0.0021488806854743116\n",
      "V297 Nan percentage: 2.0320384732617603e-05\n",
      "V298 Nan percentage: 2.0320384732617603e-05\n",
      "V299 Nan percentage: 2.0320384732617603e-05\n",
      "V300 Nan percentage: 0.0021488806854743116\n",
      "V301 Nan percentage: 0.0021488806854743116\n",
      "V302 Nan percentage: 2.0320384732617603e-05\n",
      "V303 Nan percentage: 2.0320384732617603e-05\n",
      "V304 Nan percentage: 2.0320384732617603e-05\n",
      "V305 Nan percentage: 2.0320384732617603e-05\n",
      "V306 Nan percentage: 2.0320384732617603e-05\n",
      "V307 Nan percentage: 2.0320384732617603e-05\n",
      "V308 Nan percentage: 2.0320384732617603e-05\n",
      "V309 Nan percentage: 2.0320384732617603e-05\n",
      "V310 Nan percentage: 2.0320384732617603e-05\n",
      "V311 Nan percentage: 2.0320384732617603e-05\n",
      "V312 Nan percentage: 2.0320384732617603e-05\n",
      "V313 Nan percentage: 0.0021488806854743116\n",
      "V314 Nan percentage: 0.0021488806854743116\n",
      "V315 Nan percentage: 0.0021488806854743116\n",
      "V316 Nan percentage: 2.0320384732617603e-05\n",
      "V317 Nan percentage: 2.0320384732617603e-05\n",
      "V318 Nan percentage: 2.0320384732617603e-05\n",
      "V319 Nan percentage: 2.0320384732617603e-05\n",
      "V320 Nan percentage: 2.0320384732617603e-05\n",
      "V321 Nan percentage: 2.0320384732617603e-05\n",
      "V322 Nan percentage: 0.8605496664070174\n",
      "V323 Nan percentage: 0.8605496664070174\n",
      "V324 Nan percentage: 0.8605496664070174\n",
      "V325 Nan percentage: 0.8605496664070174\n",
      "V326 Nan percentage: 0.8605496664070174\n",
      "V327 Nan percentage: 0.8605496664070174\n",
      "V328 Nan percentage: 0.8605496664070174\n",
      "V329 Nan percentage: 0.8605496664070174\n",
      "V330 Nan percentage: 0.8605496664070174\n",
      "V331 Nan percentage: 0.8605496664070174\n",
      "V332 Nan percentage: 0.8605496664070174\n",
      "V333 Nan percentage: 0.8605496664070174\n",
      "V334 Nan percentage: 0.8605496664070174\n",
      "V335 Nan percentage: 0.8605496664070174\n",
      "V336 Nan percentage: 0.8605496664070174\n",
      "V337 Nan percentage: 0.8605496664070174\n",
      "V338 Nan percentage: 0.8605496664070174\n",
      "V339 Nan percentage: 0.8605496664070174\n"
     ]
    }
   ],
   "source": [
    "for col in train_transaction.columns:\n",
    "    print(f'{col} Nan percentage: {train_transaction[col].isnull().sum() / train_transaction.shape[0]}')"
   ]
  },
  {
   "cell_type": "markdown",
   "metadata": {},
   "source": [
    "### TransactionDT"
   ]
  },
  {
   "cell_type": "code",
   "execution_count": 22,
   "metadata": {},
   "outputs": [
    {
     "data": {
      "text/plain": [
       "count    5.905400e+05\n",
       "mean     7.372311e+06\n",
       "std      4.617224e+06\n",
       "min      8.640000e+04\n",
       "25%      3.027058e+06\n",
       "50%      7.306528e+06\n",
       "75%      1.124662e+07\n",
       "max      1.581113e+07\n",
       "Name: TransactionDT, dtype: float64"
      ]
     },
     "execution_count": 22,
     "metadata": {},
     "output_type": "execute_result"
    }
   ],
   "source": [
    "train_transaction[\"TransactionDT\"].describe()"
   ]
  },
  {
   "cell_type": "code",
   "execution_count": 23,
   "metadata": {},
   "outputs": [
    {
     "data": {
      "text/plain": [
       "15724730.0"
      ]
     },
     "execution_count": 23,
     "metadata": {},
     "output_type": "execute_result"
    }
   ],
   "source": [
    "1.581113e+07 - 8.640000e+04"
   ]
  },
  {
   "cell_type": "code",
   "execution_count": 25,
   "metadata": {},
   "outputs": [
    {
     "data": {
      "text/plain": [
       "181.99918981481483"
      ]
     },
     "execution_count": 25,
     "metadata": {},
     "output_type": "execute_result"
    }
   ],
   "source": [
    "15724730.0 / 60 / 60 / 24"
   ]
  },
  {
   "cell_type": "markdown",
   "metadata": {},
   "source": [
    "* 181日（半年）"
   ]
  },
  {
   "cell_type": "code",
   "execution_count": 45,
   "metadata": {},
   "outputs": [
    {
     "data": {
      "text/plain": [
       "<matplotlib.axes._subplots.AxesSubplot at 0x7fd9f9ce5748>"
      ]
     },
     "execution_count": 45,
     "metadata": {},
     "output_type": "execute_result"
    },
    {
     "data": {
      "image/png": "[encoded data removed]",
      "text/plain": [
       "<Figure size 432x288 with 1 Axes>"
      ]
     },
     "metadata": {
      "needs_background": "light"
     },
     "output_type": "display_data"
    }
   ],
   "source": [
    "sns.distplot(train_transaction[\"TransactionDT\"], kde=False, rug=False, bins=100) "
   ]
  },
  {
   "cell_type": "code",
   "execution_count": 46,
   "metadata": {},
   "outputs": [
    {
     "data": {
      "text/plain": [
       "<matplotlib.axes._subplots.AxesSubplot at 0x7fd9f93507b8>"
      ]
     },
     "execution_count": 46,
     "metadata": {},
     "output_type": "execute_result"
    },
    {
     "data": {
      "image/png": "[encoded data removed]",
      "text/plain": [
       "<Figure size 432x288 with 1 Axes>"
      ]
     },
     "metadata": {
      "needs_background": "light"
     },
     "output_type": "display_data"
    }
   ],
   "source": [
    "sns.distplot(test_transaction[\"TransactionDT\"], kde=False, rug=False, bins=100) "
   ]
  },
  {
   "cell_type": "markdown",
   "metadata": {},
   "source": [
    "### TransactionAMT"
   ]
  },
  {
   "cell_type": "code",
   "execution_count": 50,
   "metadata": {},
   "outputs": [
    {
     "data": {
      "text/plain": [
       "<matplotlib.axes._subplots.AxesSubplot at 0x7fd9312979b0>"
      ]
     },
     "execution_count": 50,
     "metadata": {},
     "output_type": "execute_result"
    },
    {
     "data": {
      "image/png": "[encoded data removed]",
      "text/plain": [
       "<Figure size 432x288 with 1 Axes>"
      ]
     },
     "metadata": {
      "needs_background": "light"
     },
     "output_type": "display_data"
    }
   ],
   "source": [
    "sns.boxplot(y=\"TransactionAmt\", data=train_transaction)"
   ]
  },
  {
   "cell_type": "code",
   "execution_count": 51,
   "metadata": {},
   "outputs": [
    {
     "data": {
      "text/plain": [
       "<matplotlib.axes._subplots.AxesSubplot at 0x7fd93125d2e8>"
      ]
     },
     "execution_count": 51,
     "metadata": {},
     "output_type": "execute_result"
    },
    {
     "data": {
      "image/png": "[encoded data removed]",
      "text/plain": [
       "<Figure size 432x288 with 1 Axes>"
      ]
     },
     "metadata": {
      "needs_background": "light"
     },
     "output_type": "display_data"
    }
   ],
   "source": [
    "sns.boxplot(y=\"TransactionAmt\", data=test_transaction)"
   ]
  },
  {
   "cell_type": "code",
   "execution_count": 58,
   "metadata": {},
   "outputs": [
    {
     "data": {
      "text/plain": [
       "<matplotlib.axes._subplots.AxesSubplot at 0x7fd9311a9da0>"
      ]
     },
     "execution_count": 58,
     "metadata": {},
     "output_type": "execute_result"
    },
    {
     "data": {
      "image/png": "[encoded data removed]",
      "text/plain": [
       "<Figure size 432x288 with 1 Axes>"
      ]
     },
     "metadata": {
      "needs_background": "light"
     },
     "output_type": "display_data"
    }
   ],
   "source": [
    "sns.boxplot(x=\"isFraud\",y=\"TransactionAmt\", data=train_transaction)"
   ]
  },
  {
   "cell_type": "code",
   "execution_count": 52,
   "metadata": {},
   "outputs": [
    {
     "data": {
      "text/plain": [
       "2"
      ]
     },
     "execution_count": 52,
     "metadata": {},
     "output_type": "execute_result"
    }
   ],
   "source": [
    "sum(train_transaction[\"TransactionAmt\"] > 30000)"
   ]
  },
  {
   "cell_type": "code",
   "execution_count": 55,
   "metadata": {},
   "outputs": [
    {
     "data": {
      "text/plain": [
       "<matplotlib.axes._subplots.AxesSubplot at 0x7fd931208ef0>"
      ]
     },
     "execution_count": 55,
     "metadata": {},
     "output_type": "execute_result"
    },
    {
     "data": {
      "image/png": "[encoded data removed]",
      "text/plain": [
       "<Figure size 432x288 with 1 Axes>"
      ]
     },
     "metadata": {
      "needs_background": "light"
     },
     "output_type": "display_data"
    }
   ],
   "source": [
    "sns.distplot(train_transaction[train_transaction[\"TransactionAmt\"] < 30000][\"TransactionAmt\"], kde=False, rug=False, bins=100) "
   ]
  },
  {
   "cell_type": "code",
   "execution_count": 56,
   "metadata": {},
   "outputs": [
    {
     "data": {
      "text/plain": [
       "<matplotlib.axes._subplots.AxesSubplot at 0x7fd9310c3ac8>"
      ]
     },
     "execution_count": 56,
     "metadata": {},
     "output_type": "execute_result"
    },
    {
     "data": {
      "image/png": "[encoded data removed]",
      "text/plain": [
       "<Figure size 432x288 with 1 Axes>"
      ]
     },
     "metadata": {
      "needs_background": "light"
     },
     "output_type": "display_data"
    }
   ],
   "source": [
    "sns.distplot(train_transaction[train_transaction[\"TransactionAmt\"] < 1000][\"TransactionAmt\"], kde=False, rug=False, bins=100) "
   ]
  },
  {
   "cell_type": "code",
   "execution_count": 67,
   "metadata": {},
   "outputs": [
    {
     "data": {
      "text/plain": [
       "<matplotlib.axes._subplots.AxesSubplot at 0x7fd9309294a8>"
      ]
     },
     "execution_count": 67,
     "metadata": {},
     "output_type": "execute_result"
    },
    {
     "data": {
      "image/png": "[encoded data removed]",
      "text/plain": [
       "<Figure size 432x288 with 1 Axes>"
      ]
     },
     "metadata": {
      "needs_background": "light"
     },
     "output_type": "display_data"
    }
   ],
   "source": [
    "sns.distplot(train_transaction[(train_transaction[\"TransactionAmt\"] < 1000) & (train_transaction[\"isFraud\"] == 1)][\"TransactionAmt\"], kde=False, rug=False, bins=20) "
   ]
  },
  {
   "cell_type": "code",
   "execution_count": 68,
   "metadata": {},
   "outputs": [
    {
     "data": {
      "text/plain": [
       "<matplotlib.axes._subplots.AxesSubplot at 0x7fd9f9ef5710>"
      ]
     },
     "execution_count": 68,
     "metadata": {},
     "output_type": "execute_result"
    },
    {
     "data": {
      "image/png": "[encoded data removed]",
      "text/plain": [
       "<Figure size 432x288 with 1 Axes>"
      ]
     },
     "metadata": {
      "needs_background": "light"
     },
     "output_type": "display_data"
    }
   ],
   "source": [
    "sns.distplot(train_transaction[(train_transaction[\"TransactionAmt\"] < 1000) & (train_transaction[\"isFraud\"] == 0)][\"TransactionAmt\"], kde=False, rug=False, bins=20) "
   ]
  },
  {
   "cell_type": "markdown",
   "metadata": {},
   "source": [
    "isFraud==1の時、0のと比較して、800以上が若干多い、少額の割合が他と比べて多い"
   ]
  },
  {
   "cell_type": "code",
   "execution_count": 57,
   "metadata": {},
   "outputs": [
    {
     "data": {
      "text/html": [
       "<div>\n",
       "<style scoped>\n",
       "    .dataframe tbody tr th:only-of-type {\n",
       "        vertical-align: middle;\n",
       "    }\n",
       "\n",
       "    .dataframe tbody tr th {\n",
       "        vertical-align: top;\n",
       "    }\n",
       "\n",
       "    .dataframe thead th {\n",
       "        text-align: right;\n",
       "    }\n",
       "</style>\n",
       "<table border=\"1\" class=\"dataframe\">\n",
       "  <thead>\n",
       "    <tr style=\"text-align: right;\">\n",
       "      <th></th>\n",
       "      <th>TransactionID</th>\n",
       "      <th>isFraud</th>\n",
       "      <th>TransactionDT</th>\n",
       "      <th>TransactionAmt</th>\n",
       "      <th>ProductCD</th>\n",
       "      <th>card1</th>\n",
       "      <th>card2</th>\n",
       "      <th>card3</th>\n",
       "      <th>card4</th>\n",
       "      <th>card5</th>\n",
       "      <th>...</th>\n",
       "      <th>V330</th>\n",
       "      <th>V331</th>\n",
       "      <th>V332</th>\n",
       "      <th>V333</th>\n",
       "      <th>V334</th>\n",
       "      <th>V335</th>\n",
       "      <th>V336</th>\n",
       "      <th>V337</th>\n",
       "      <th>V338</th>\n",
       "      <th>V339</th>\n",
       "    </tr>\n",
       "  </thead>\n",
       "  <tbody>\n",
       "    <tr>\n",
       "      <th>274336</th>\n",
       "      <td>3261336</td>\n",
       "      <td>0</td>\n",
       "      <td>6652360</td>\n",
       "      <td>31937.391</td>\n",
       "      <td>W</td>\n",
       "      <td>16075</td>\n",
       "      <td>514.0</td>\n",
       "      <td>150.0</td>\n",
       "      <td>mastercard</td>\n",
       "      <td>102.0</td>\n",
       "      <td>...</td>\n",
       "      <td>NaN</td>\n",
       "      <td>NaN</td>\n",
       "      <td>NaN</td>\n",
       "      <td>NaN</td>\n",
       "      <td>NaN</td>\n",
       "      <td>NaN</td>\n",
       "      <td>NaN</td>\n",
       "      <td>NaN</td>\n",
       "      <td>NaN</td>\n",
       "      <td>NaN</td>\n",
       "    </tr>\n",
       "    <tr>\n",
       "      <th>274339</th>\n",
       "      <td>3261339</td>\n",
       "      <td>0</td>\n",
       "      <td>6652391</td>\n",
       "      <td>31937.391</td>\n",
       "      <td>W</td>\n",
       "      <td>16075</td>\n",
       "      <td>514.0</td>\n",
       "      <td>150.0</td>\n",
       "      <td>mastercard</td>\n",
       "      <td>102.0</td>\n",
       "      <td>...</td>\n",
       "      <td>NaN</td>\n",
       "      <td>NaN</td>\n",
       "      <td>NaN</td>\n",
       "      <td>NaN</td>\n",
       "      <td>NaN</td>\n",
       "      <td>NaN</td>\n",
       "      <td>NaN</td>\n",
       "      <td>NaN</td>\n",
       "      <td>NaN</td>\n",
       "      <td>NaN</td>\n",
       "    </tr>\n",
       "  </tbody>\n",
       "</table>\n",
       "<p>2 rows × 394 columns</p>\n",
       "</div>"
      ],
      "text/plain": [
       "        TransactionID  isFraud  TransactionDT  TransactionAmt ProductCD  \\\n",
       "274336        3261336        0        6652360       31937.391         W   \n",
       "274339        3261339        0        6652391       31937.391         W   \n",
       "\n",
       "        card1  card2  card3       card4  card5  ... V330  V331  V332  V333  \\\n",
       "274336  16075  514.0  150.0  mastercard  102.0  ...  NaN   NaN   NaN   NaN   \n",
       "274339  16075  514.0  150.0  mastercard  102.0  ...  NaN   NaN   NaN   NaN   \n",
       "\n",
       "        V334 V335 V336  V337  V338  V339  \n",
       "274336   NaN  NaN  NaN   NaN   NaN   NaN  \n",
       "274339   NaN  NaN  NaN   NaN   NaN   NaN  \n",
       "\n",
       "[2 rows x 394 columns]"
      ]
     },
     "execution_count": 57,
     "metadata": {},
     "output_type": "execute_result"
    }
   ],
   "source": [
    "train_transaction[train_transaction[\"TransactionAmt\"] > 30000]"
   ]
  },
  {
   "cell_type": "code",
   "execution_count": null,
   "metadata": {},
   "outputs": [],
   "source": []
  },
  {
   "cell_type": "markdown",
   "metadata": {},
   "source": [
    "この行は除外、もしくは丸めたほうがいい"
   ]
  },
  {
   "cell_type": "markdown",
   "metadata": {},
   "source": [
    "### ProductCD"
   ]
  },
  {
   "cell_type": "code",
   "execution_count": 69,
   "metadata": {},
   "outputs": [
    {
     "data": {
      "text/plain": [
       "W    439670\n",
       "C     68519\n",
       "R     37699\n",
       "H     33024\n",
       "S     11628\n",
       "Name: ProductCD, dtype: int64"
      ]
     },
     "execution_count": 69,
     "metadata": {},
     "output_type": "execute_result"
    }
   ],
   "source": [
    "train_transaction[\"ProductCD\"].value_counts()"
   ]
  },
  {
   "cell_type": "code",
   "execution_count": 70,
   "metadata": {},
   "outputs": [
    {
     "data": {
      "text/plain": [
       "<seaborn.axisgrid.FacetGrid at 0x7fd930a40828>"
      ]
     },
     "execution_count": 70,
     "metadata": {},
     "output_type": "execute_result"
    },
    {
     "data": {
      "image/png": "[encoded data removed]",
      "text/plain": [
       "<Figure size 432x432 with 1 Axes>"
      ]
     },
     "metadata": {
      "needs_background": "light"
     },
     "output_type": "display_data"
    }
   ],
   "source": [
    "sns.catplot(x=\"ProductCD\", y=\"isFraud\", data=train_transaction,\n",
    "                height=6, kind=\"bar\", palette=\"muted\")"
   ]
  },
  {
   "cell_type": "code",
   "execution_count": 12,
   "metadata": {},
   "outputs": [
    {
     "data": {
      "text/plain": [
       "13553"
      ]
     },
     "execution_count": 12,
     "metadata": {},
     "output_type": "execute_result"
    }
   ],
   "source": [
    "train_transaction[\"card1\"].nunique()"
   ]
  },
  {
   "cell_type": "code",
   "execution_count": null,
   "metadata": {},
   "outputs": [],
   "source": []
  },
  {
   "cell_type": "markdown",
   "metadata": {},
   "source": [
    "### card4"
   ]
  },
  {
   "cell_type": "code",
   "execution_count": 71,
   "metadata": {},
   "outputs": [
    {
     "data": {
      "text/plain": [
       "visa                384767\n",
       "mastercard          189217\n",
       "american express      8328\n",
       "discover              6651\n",
       "Name: card4, dtype: int64"
      ]
     },
     "execution_count": 71,
     "metadata": {},
     "output_type": "execute_result"
    }
   ],
   "source": [
    "train_transaction[\"card4\"].value_counts()"
   ]
  },
  {
   "cell_type": "code",
   "execution_count": 72,
   "metadata": {},
   "outputs": [
    {
     "data": {
      "text/plain": [
       "<seaborn.axisgrid.FacetGrid at 0x7fd930fb8278>"
      ]
     },
     "execution_count": 72,
     "metadata": {},
     "output_type": "execute_result"
    },
    {
     "data": {
      "image/png": "[encoded data removed]",
      "text/plain": [
       "<Figure size 432x432 with 1 Axes>"
      ]
     },
     "metadata": {
      "needs_background": "light"
     },
     "output_type": "display_data"
    }
   ],
   "source": [
    "sns.catplot(x=\"card4\", y=\"isFraud\", data=train_transaction,\n",
    "                height=6, kind=\"bar\", palette=\"muted\")"
   ]
  },
  {
   "cell_type": "markdown",
   "metadata": {},
   "source": [
    "### card6"
   ]
  },
  {
   "cell_type": "code",
   "execution_count": 74,
   "metadata": {},
   "outputs": [
    {
     "data": {
      "text/plain": [
       "debit              439938\n",
       "credit             148986\n",
       "debit or credit        30\n",
       "charge card            15\n",
       "Name: card6, dtype: int64"
      ]
     },
     "execution_count": 74,
     "metadata": {},
     "output_type": "execute_result"
    }
   ],
   "source": [
    "train_transaction[\"card6\"].value_counts()"
   ]
  },
  {
   "cell_type": "code",
   "execution_count": 75,
   "metadata": {},
   "outputs": [
    {
     "data": {
      "text/plain": [
       "<seaborn.axisgrid.FacetGrid at 0x7fd6aadbe0f0>"
      ]
     },
     "execution_count": 75,
     "metadata": {},
     "output_type": "execute_result"
    },
    {
     "data": {
      "image/png": "[encoded data removed]",
      "text/plain": [
       "<Figure size 432x432 with 1 Axes>"
      ]
     },
     "metadata": {
      "needs_background": "light"
     },
     "output_type": "display_data"
    }
   ],
   "source": [
    "sns.catplot(x=\"card6\", y=\"isFraud\", data=train_transaction,\n",
    "                height=6, kind=\"bar\", palette=\"muted\")"
   ]
  },
  {
   "cell_type": "markdown",
   "metadata": {},
   "source": [
    "### P_emaildomain"
   ]
  },
  {
   "cell_type": "code",
   "execution_count": 76,
   "metadata": {},
   "outputs": [
    {
     "data": {
      "text/plain": [
       "gmail.com           228355\n",
       "yahoo.com           100934\n",
       "hotmail.com          45250\n",
       "anonymous.com        36998\n",
       "aol.com              28289\n",
       "comcast.net           7888\n",
       "icloud.com            6267\n",
       "outlook.com           5096\n",
       "msn.com               4092\n",
       "att.net               4033\n",
       "live.com              3041\n",
       "sbcglobal.net         2970\n",
       "verizon.net           2705\n",
       "ymail.com             2396\n",
       "bellsouth.net         1909\n",
       "yahoo.com.mx          1543\n",
       "me.com                1522\n",
       "cox.net               1393\n",
       "optonline.net         1011\n",
       "charter.net            816\n",
       "live.com.mx            749\n",
       "rocketmail.com         664\n",
       "mail.com               559\n",
       "earthlink.net          514\n",
       "gmail                  496\n",
       "outlook.es             438\n",
       "mac.com                436\n",
       "juno.com               322\n",
       "aim.com                315\n",
       "windstream.net         305\n",
       "hotmail.es             305\n",
       "roadrunner.com         305\n",
       "hotmail.fr             295\n",
       "frontier.com           280\n",
       "embarqmail.com         260\n",
       "web.de                 240\n",
       "twc.com                230\n",
       "netzero.com            230\n",
       "prodigy.net.mx         207\n",
       "centurylink.net        205\n",
       "netzero.net            196\n",
       "frontiernet.net        195\n",
       "q.com                  189\n",
       "suddenlink.net         175\n",
       "cfl.rr.com             172\n",
       "sc.rr.com              164\n",
       "cableone.net           159\n",
       "gmx.de                 149\n",
       "yahoo.fr               143\n",
       "yahoo.es               134\n",
       "hotmail.co.uk          112\n",
       "protonmail.com          76\n",
       "yahoo.de                74\n",
       "ptd.net                 68\n",
       "live.fr                 56\n",
       "yahoo.co.uk             49\n",
       "hotmail.de              43\n",
       "servicios-ta.com        35\n",
       "yahoo.co.jp             32\n",
       "Name: P_emaildomain, dtype: int64"
      ]
     },
     "execution_count": 76,
     "metadata": {},
     "output_type": "execute_result"
    }
   ],
   "source": [
    "train_transaction[\"P_emaildomain\"].value_counts()"
   ]
  },
  {
   "cell_type": "code",
   "execution_count": 77,
   "metadata": {},
   "outputs": [
    {
     "data": {
      "text/plain": [
       "<seaborn.axisgrid.FacetGrid at 0x7fd930835ef0>"
      ]
     },
     "execution_count": 77,
     "metadata": {},
     "output_type": "execute_result"
    },
    {
     "data": {
      "image/png": "[encoded data removed]",
      "text/plain": [
       "<Figure size 432x432 with 1 Axes>"
      ]
     },
     "metadata": {
      "needs_background": "light"
     },
     "output_type": "display_data"
    }
   ],
   "source": [
    "sns.catplot(x=\"P_emaildomain\", y=\"isFraud\", data=train_transaction,\n",
    "                height=6, kind=\"bar\", palette=\"muted\")"
   ]
  },
  {
   "cell_type": "markdown",
   "metadata": {},
   "source": [
    "### C1~C14"
   ]
  },
  {
   "cell_type": "code",
   "execution_count": 87,
   "metadata": {},
   "outputs": [
    {
     "data": {
      "text/plain": [
       "0    1.0\n",
       "1    1.0\n",
       "2    1.0\n",
       "3    2.0\n",
       "4    1.0\n",
       "Name: C1, dtype: float64"
      ]
     },
     "execution_count": 87,
     "metadata": {},
     "output_type": "execute_result"
    }
   ],
   "source": [
    "train_transaction[\"C1\"].head()"
   ]
  },
  {
   "cell_type": "code",
   "execution_count": 18,
   "metadata": {},
   "outputs": [
    {
     "name": "stdout",
     "output_type": "stream",
     "text": [
      "C1 : 1657\n",
      "C2 : 1216\n",
      "C3 : 27\n",
      "C4 : 1260\n",
      "C5 : 319\n",
      "C6 : 1328\n",
      "C7 : 1103\n",
      "C8 : 1253\n",
      "C9 : 205\n",
      "C10 : 1231\n",
      "C11 : 1476\n",
      "C12 : 1199\n",
      "C13 : 1597\n",
      "C14 : 1108\n"
     ]
    }
   ],
   "source": [
    "for i in range(1,15):\n",
    "    print(f'C{i} : ' + str(train_transaction[f'C{i}'].nunique()))"
   ]
  },
  {
   "cell_type": "code",
   "execution_count": 35,
   "metadata": {},
   "outputs": [
    {
     "data": {
      "text/plain": [
       "1.0       316791\n",
       "2.0       105071\n",
       "3.0        51315\n",
       "4.0        28845\n",
       "5.0        17922\n",
       "6.0        10567\n",
       "7.0         7263\n",
       "8.0         5072\n",
       "9.0         3612\n",
       "10.0        2904\n",
       "11.0        2167\n",
       "12.0        1965\n",
       "13.0        1460\n",
       "14.0        1116\n",
       "15.0         858\n",
       "16.0         729\n",
       "17.0         715\n",
       "18.0         578\n",
       "19.0         494\n",
       "0.0          494\n",
       "20.0         437\n",
       "21.0         375\n",
       "22.0         369\n",
       "24.0         323\n",
       "117.0        322\n",
       "110.0        316\n",
       "111.0        313\n",
       "121.0        298\n",
       "126.0        291\n",
       "123.0        291\n",
       "           ...  \n",
       "1393.0         1\n",
       "1385.0         1\n",
       "951.0          1\n",
       "2032.0         1\n",
       "3825.0         1\n",
       "3843.0         1\n",
       "1375.0         1\n",
       "3841.0         1\n",
       "1783.0         1\n",
       "4432.0         1\n",
       "959.0          1\n",
       "1642.0         1\n",
       "3833.0         1\n",
       "1378.0         1\n",
       "3827.0         1\n",
       "3826.0         1\n",
       "368.0          1\n",
       "3805.0         1\n",
       "1379.0         1\n",
       "3823.0         1\n",
       "1584.0         1\n",
       "756.0          1\n",
       "3818.0         1\n",
       "954.0          1\n",
       "1808.0         1\n",
       "953.0          1\n",
       "3811.0         1\n",
       "3810.0         1\n",
       "1383.0         1\n",
       "1792.0         1\n",
       "Name: C1, Length: 1657, dtype: int64"
      ]
     },
     "execution_count": 35,
     "metadata": {},
     "output_type": "execute_result"
    }
   ],
   "source": [
    "train_transaction[\"C1\"].value_counts()"
   ]
  },
  {
   "cell_type": "markdown",
   "metadata": {},
   "source": [
    "### C13"
   ]
  },
  {
   "cell_type": "code",
   "execution_count": 34,
   "metadata": {},
   "outputs": [
    {
     "data": {
      "text/plain": [
       "1.0       199337\n",
       "2.0        57616\n",
       "0.0        35460\n",
       "3.0        33033\n",
       "4.0        23704\n",
       "5.0        18355\n",
       "6.0        15127\n",
       "7.0        13001\n",
       "8.0        11424\n",
       "9.0        10189\n",
       "10.0        9263\n",
       "11.0        8591\n",
       "12.0        8442\n",
       "13.0        8032\n",
       "14.0        6997\n",
       "15.0        6254\n",
       "16.0        5838\n",
       "17.0        5398\n",
       "18.0        4898\n",
       "19.0        4503\n",
       "20.0        4135\n",
       "21.0        3865\n",
       "22.0        3584\n",
       "23.0        3429\n",
       "24.0        3271\n",
       "25.0        3056\n",
       "26.0        2827\n",
       "27.0        2692\n",
       "28.0        2588\n",
       "29.0        2556\n",
       "           ...  \n",
       "2917.0         1\n",
       "2915.0         1\n",
       "2914.0         1\n",
       "2913.0         1\n",
       "2905.0         1\n",
       "2902.0         1\n",
       "2892.0         1\n",
       "2898.0         1\n",
       "1681.0         1\n",
       "2348.0         1\n",
       "1764.0         1\n",
       "1332.0         1\n",
       "2244.0         1\n",
       "1088.0         1\n",
       "1536.0         1\n",
       "1666.0         1\n",
       "1772.0         1\n",
       "1336.0         1\n",
       "948.0          1\n",
       "2360.0         1\n",
       "1340.0         1\n",
       "2364.0         1\n",
       "1669.0         1\n",
       "1108.0         1\n",
       "1671.0         1\n",
       "2912.0         1\n",
       "1673.0         1\n",
       "2344.0         1\n",
       "1677.0         1\n",
       "899.0          1\n",
       "Name: C13, Length: 1597, dtype: int64"
      ]
     },
     "execution_count": 34,
     "metadata": {},
     "output_type": "execute_result"
    }
   ],
   "source": [
    "train_transaction[\"C13\"].value_counts()"
   ]
  },
  {
   "cell_type": "code",
   "execution_count": 27,
   "metadata": {},
   "outputs": [
    {
     "data": {
      "text/plain": [
       "<matplotlib.axes._subplots.AxesSubplot at 0x7f89b7566b38>"
      ]
     },
     "execution_count": 27,
     "metadata": {},
     "output_type": "execute_result"
    },
    {
     "data": {
      "image/png": "[encoded data removed]",
      "text/plain": [
       "<Figure size 432x288 with 1 Axes>"
      ]
     },
     "metadata": {
      "needs_background": "light"
     },
     "output_type": "display_data"
    }
   ],
   "source": [
    "sns.distplot(train_transaction[(train_transaction[\"C13\"] < 100) & (train_transaction[\"isFraud\"] == 1)][\"C13\"], kde=False, rug=False, bins=100) "
   ]
  },
  {
   "cell_type": "code",
   "execution_count": 28,
   "metadata": {},
   "outputs": [
    {
     "data": {
      "text/plain": [
       "<matplotlib.axes._subplots.AxesSubplot at 0x7f89b747de48>"
      ]
     },
     "execution_count": 28,
     "metadata": {},
     "output_type": "execute_result"
    },
    {
     "data": {
      "image/png": "[encoded data removed]",
      "text/plain": [
       "<Figure size 432x288 with 1 Axes>"
      ]
     },
     "metadata": {
      "needs_background": "light"
     },
     "output_type": "display_data"
    }
   ],
   "source": [
    "sns.distplot(train_transaction[(train_transaction[\"C13\"] < 100) & (train_transaction[\"isFraud\"] == 0)][\"C13\"], kde=False, rug=False, bins=100) "
   ]
  },
  {
   "cell_type": "code",
   "execution_count": null,
   "metadata": {},
   "outputs": [],
   "source": []
  },
  {
   "cell_type": "markdown",
   "metadata": {},
   "source": [
    "### D1~D15"
   ]
  },
  {
   "cell_type": "code",
   "execution_count": 90,
   "metadata": {},
   "outputs": [
    {
     "data": {
      "text/plain": [
       "0     14.0\n",
       "1      0.0\n",
       "2      0.0\n",
       "3    112.0\n",
       "4      0.0\n",
       "Name: D1, dtype: float64"
      ]
     },
     "execution_count": 90,
     "metadata": {},
     "output_type": "execute_result"
    }
   ],
   "source": [
    "train_transaction[\"D1\"].head()"
   ]
  },
  {
   "cell_type": "code",
   "execution_count": 19,
   "metadata": {},
   "outputs": [
    {
     "name": "stdout",
     "output_type": "stream",
     "text": [
      "D1 : 641\n",
      "D2 : 641\n",
      "D3 : 649\n",
      "D4 : 808\n",
      "D5 : 688\n",
      "D6 : 829\n",
      "D7 : 597\n",
      "D8 : 12353\n",
      "D9 : 24\n",
      "D10 : 818\n",
      "D11 : 676\n",
      "D12 : 635\n",
      "D13 : 577\n",
      "D14 : 802\n",
      "D15 : 859\n"
     ]
    }
   ],
   "source": [
    "for i in range(1,16):\n",
    "    print(f'D{i} : ' + str(train_transaction[f'D{i}'].nunique()))"
   ]
  },
  {
   "cell_type": "code",
   "execution_count": 14,
   "metadata": {},
   "outputs": [
    {
     "data": {
      "text/plain": [
       "0      0.0\n",
       "1      0.0\n",
       "2    315.0\n",
       "3    111.0\n",
       "4      NaN\n",
       "Name: D15, dtype: float64"
      ]
     },
     "execution_count": 14,
     "metadata": {},
     "output_type": "execute_result"
    }
   ],
   "source": [
    "train_transaction[\"D15\"].head()"
   ]
  },
  {
   "cell_type": "code",
   "execution_count": 19,
   "metadata": {},
   "outputs": [],
   "source": [
    "train_transaction['D15_to_mean_card1'] = train_transaction['D15'] / train_transaction.groupby(['card1'])['D15'].transform('mean')"
   ]
  },
  {
   "cell_type": "code",
   "execution_count": 20,
   "metadata": {},
   "outputs": [
    {
     "data": {
      "text/plain": [
       "<matplotlib.axes._subplots.AxesSubplot at 0x7f62e47292e8>"
      ]
     },
     "execution_count": 20,
     "metadata": {},
     "output_type": "execute_result"
    },
    {
     "data": {
      "image/png": "[encoded data removed]",
      "text/plain": [
       "<Figure size 432x288 with 1 Axes>"
      ]
     },
     "metadata": {
      "needs_background": "light"
     },
     "output_type": "display_data"
    }
   ],
   "source": [
    "sns.distplot(train_transaction[train_transaction[\"isFraud\"] == 1][\"D15_to_mean_card1\"], kde=False, rug=False, bins=100) "
   ]
  },
  {
   "cell_type": "code",
   "execution_count": 21,
   "metadata": {},
   "outputs": [
    {
     "data": {
      "text/plain": [
       "<matplotlib.axes._subplots.AxesSubplot at 0x7f62e45eb6a0>"
      ]
     },
     "execution_count": 21,
     "metadata": {},
     "output_type": "execute_result"
    },
    {
     "data": {
      "image/png": "[encoded data removed]",
      "text/plain": [
       "<Figure size 432x288 with 1 Axes>"
      ]
     },
     "metadata": {
      "needs_background": "light"
     },
     "output_type": "display_data"
    }
   ],
   "source": [
    "sns.distplot(train_transaction[train_transaction[\"isFraud\"] == 0][\"D15_to_mean_card1\"], kde=False, rug=False, bins=100) "
   ]
  },
  {
   "cell_type": "code",
   "execution_count": 17,
   "metadata": {},
   "outputs": [
    {
     "data": {
      "text/plain": [
       "<matplotlib.axes._subplots.AxesSubplot at 0x7f62d6bf2f98>"
      ]
     },
     "execution_count": 17,
     "metadata": {},
     "output_type": "execute_result"
    },
    {
     "data": {
      "image/png": "[encoded data removed]",
      "text/plain": [
       "<Figure size 432x288 with 1 Axes>"
      ]
     },
     "metadata": {
      "needs_background": "light"
     },
     "output_type": "display_data"
    }
   ],
   "source": [
    "sns.distplot(train_transaction[train_transaction[\"isFraud\"] == 1][\"D15\"], kde=False, rug=False, bins=100) "
   ]
  },
  {
   "cell_type": "code",
   "execution_count": 18,
   "metadata": {},
   "outputs": [
    {
     "data": {
      "text/plain": [
       "<matplotlib.axes._subplots.AxesSubplot at 0x7f62d6aac780>"
      ]
     },
     "execution_count": 18,
     "metadata": {},
     "output_type": "execute_result"
    },
    {
     "data": {
      "image/png": "[encoded data removed]",
      "text/plain": [
       "<Figure size 432x288 with 1 Axes>"
      ]
     },
     "metadata": {
      "needs_background": "light"
     },
     "output_type": "display_data"
    }
   ],
   "source": [
    "sns.distplot(train_transaction[train_transaction[\"isFraud\"] == 0][\"D15\"], kde=False, rug=False, bins=100) "
   ]
  },
  {
   "cell_type": "markdown",
   "metadata": {},
   "source": [
    "### M1~M9"
   ]
  },
  {
   "cell_type": "code",
   "execution_count": 95,
   "metadata": {},
   "outputs": [
    {
     "name": "stdout",
     "output_type": "stream",
     "text": [
      "M1 nunique: 2\n",
      "M2 nunique: 2\n",
      "M3 nunique: 2\n",
      "M4 nunique: 3\n",
      "M5 nunique: 2\n",
      "M6 nunique: 2\n",
      "M7 nunique: 2\n",
      "M8 nunique: 2\n",
      "M9 nunique: 2\n"
     ]
    }
   ],
   "source": [
    "for i in range(1,10):\n",
    "    print(f'M{i} nunique: {train_transaction[\"M\"+str(i)].nunique()}')"
   ]
  },
  {
   "cell_type": "code",
   "execution_count": 97,
   "metadata": {},
   "outputs": [
    {
     "data": {
      "text/plain": [
       "0      T\n",
       "1    NaN\n",
       "2      T\n",
       "3    NaN\n",
       "4    NaN\n",
       "Name: M1, dtype: object"
      ]
     },
     "execution_count": 97,
     "metadata": {},
     "output_type": "execute_result"
    }
   ],
   "source": [
    "train_transaction[\"M1\"].head()"
   ]
  },
  {
   "cell_type": "code",
   "execution_count": null,
   "metadata": {},
   "outputs": [],
   "source": []
  },
  {
   "cell_type": "code",
   "execution_count": null,
   "metadata": {},
   "outputs": [],
   "source": []
  },
  {
   "cell_type": "markdown",
   "metadata": {},
   "source": [
    "## train_identity"
   ]
  },
  {
   "cell_type": "code",
   "execution_count": 25,
   "metadata": {},
   "outputs": [
    {
     "name": "stdout",
     "output_type": "stream",
     "text": [
      "id_01 nunique: 77\n",
      "id_02 nunique: 115655\n",
      "id_03 nunique: 24\n",
      "id_04 nunique: 15\n",
      "id_05 nunique: 93\n",
      "id_06 nunique: 101\n",
      "id_07 nunique: 84\n",
      "id_08 nunique: 94\n",
      "id_09 nunique: 46\n",
      "id_10 nunique: 62\n",
      "id_11 nunique: 365\n",
      "id_12 nunique: 2\n",
      "id_13 nunique: 54\n",
      "id_14 nunique: 25\n",
      "id_15 nunique: 3\n",
      "id_16 nunique: 2\n",
      "id_17 nunique: 104\n",
      "id_18 nunique: 18\n",
      "id_19 nunique: 522\n",
      "id_20 nunique: 394\n",
      "id_21 nunique: 490\n",
      "id_22 nunique: 25\n",
      "id_23 nunique: 3\n",
      "id_24 nunique: 12\n",
      "id_25 nunique: 341\n",
      "id_26 nunique: 95\n",
      "id_27 nunique: 2\n",
      "id_28 nunique: 2\n",
      "id_29 nunique: 2\n",
      "id_30 nunique: 75\n",
      "id_31 nunique: 130\n",
      "id_32 nunique: 4\n",
      "id_33 nunique: 260\n",
      "id_34 nunique: 4\n",
      "id_35 nunique: 2\n",
      "id_36 nunique: 2\n",
      "id_37 nunique: 2\n",
      "id_38 nunique: 2\n"
     ]
    }
   ],
   "source": [
    "for i in range(1,10):\n",
    "    print(f'id_0{i} nunique: {train_identity[\"id_0\"+str(i)].nunique()}')\n",
    "for i in range(10, 39):\n",
    "    print(f'id_{i} nunique: {train_identity[\"id_\"+str(i)].nunique()}')    "
   ]
  },
  {
   "cell_type": "code",
   "execution_count": 26,
   "metadata": {},
   "outputs": [
    {
     "data": {
      "text/plain": [
       "array(['New', 'Found', nan, 'Unknown'], dtype=object)"
      ]
     },
     "execution_count": 26,
     "metadata": {},
     "output_type": "execute_result"
    }
   ],
   "source": [
    "train_identity['id_15'].unique()"
   ]
  },
  {
   "cell_type": "code",
   "execution_count": 27,
   "metadata": {},
   "outputs": [
    {
     "data": {
      "text/plain": [
       "array(['NotFound', 'Found', nan], dtype=object)"
      ]
     },
     "execution_count": 27,
     "metadata": {},
     "output_type": "execute_result"
    }
   ],
   "source": [
    "train_identity['id_16'].unique()"
   ]
  },
  {
   "cell_type": "code",
   "execution_count": 28,
   "metadata": {},
   "outputs": [
    {
     "data": {
      "text/plain": [
       "array([nan, 'IP_PROXY:TRANSPARENT', 'IP_PROXY:ANONYMOUS',\n",
       "       'IP_PROXY:HIDDEN'], dtype=object)"
      ]
     },
     "execution_count": 28,
     "metadata": {},
     "output_type": "execute_result"
    }
   ],
   "source": [
    "train_identity['id_23'].unique()"
   ]
  },
  {
   "cell_type": "code",
   "execution_count": 29,
   "metadata": {},
   "outputs": [
    {
     "name": "stdout",
     "output_type": "stream",
     "text": [
      "['Android' 'Android 4.4.2' 'Android 5.0' 'Android 5.0.2' 'Android 5.1.1'\n",
      " 'Android 6.0' 'Android 6.0.1' 'Android 7.0' 'Android 7.1.1'\n",
      " 'Android 7.1.2' 'Android 8.0.0' 'Android 8.1.0' 'Linux' 'Mac'\n",
      " 'Mac OS X 10.10' 'Mac OS X 10.11' 'Mac OS X 10.12' 'Mac OS X 10.13'\n",
      " 'Mac OS X 10.6' 'Mac OS X 10.9' 'Mac OS X 10_10_5' 'Mac OS X 10_11_3'\n",
      " 'Mac OS X 10_11_4' 'Mac OS X 10_11_5' 'Mac OS X 10_11_6' 'Mac OS X 10_12'\n",
      " 'Mac OS X 10_12_1' 'Mac OS X 10_12_2' 'Mac OS X 10_12_3'\n",
      " 'Mac OS X 10_12_4' 'Mac OS X 10_12_5' 'Mac OS X 10_12_6'\n",
      " 'Mac OS X 10_13_1' 'Mac OS X 10_13_2' 'Mac OS X 10_13_3'\n",
      " 'Mac OS X 10_13_4' 'Mac OS X 10_13_5' 'Mac OS X 10_6_8' 'Mac OS X 10_7_5'\n",
      " 'Mac OS X 10_8_5' 'Mac OS X 10_9_5' 'Windows' 'Windows 10' 'Windows 7'\n",
      " 'Windows 8' 'Windows 8.1' 'Windows Vista' 'Windows XP' 'func' 'iOS'\n",
      " 'iOS 10.0.2' 'iOS 10.1.1' 'iOS 10.2.0' 'iOS 10.2.1' 'iOS 10.3.1'\n",
      " 'iOS 10.3.2' 'iOS 10.3.3' 'iOS 11.0.0' 'iOS 11.0.1' 'iOS 11.0.2'\n",
      " 'iOS 11.0.3' 'iOS 11.1.0' 'iOS 11.1.1' 'iOS 11.1.2' 'iOS 11.2.0'\n",
      " 'iOS 11.2.1' 'iOS 11.2.2' 'iOS 11.2.5' 'iOS 11.2.6' 'iOS 11.3.0'\n",
      " 'iOS 11.3.1' 'iOS 11.4.0' 'iOS 11.4.1' 'iOS 9.3.5' 'nan' 'other']\n"
     ]
    }
   ],
   "source": [
    "device_type = train_identity['id_30'].unique().astype(str)\n",
    "device_type.sort()\n",
    "print(device_type)"
   ]
  },
  {
   "cell_type": "code",
   "execution_count": 30,
   "metadata": {},
   "outputs": [
    {
     "name": "stdout",
     "output_type": "stream",
     "text": [
      "['BLU/Dash' 'Cherry' 'Generic/Android' 'Generic/Android 7.0' 'Inco/Minion'\n",
      " 'LG/K-200' 'Lanix/Ilium' 'M4Tel/M4' 'Microsoft/Windows' 'Mozilla/Firefox'\n",
      " 'Nokia/Lumia' 'Samsung/SCH' 'Samsung/SM-G531H' 'Samsung/SM-G532M'\n",
      " 'ZTE/Blade' 'android' 'android browser 4.0' 'android webview 4.0' 'aol'\n",
      " 'chrome' 'chrome 43.0 for android' 'chrome 46.0 for android'\n",
      " 'chrome 49.0' 'chrome 49.0 for android' 'chrome 50.0 for android'\n",
      " 'chrome 51.0' 'chrome 51.0 for android' 'chrome 52.0 for android'\n",
      " 'chrome 53.0 for android' 'chrome 54.0 for android' 'chrome 55.0'\n",
      " 'chrome 55.0 for android' 'chrome 56.0' 'chrome 56.0 for android'\n",
      " 'chrome 57.0' 'chrome 57.0 for android' 'chrome 58.0'\n",
      " 'chrome 58.0 for android' 'chrome 59.0' 'chrome 59.0 for android'\n",
      " 'chrome 60.0' 'chrome 60.0 for android' 'chrome 61.0'\n",
      " 'chrome 61.0 for android' 'chrome 62.0' 'chrome 62.0 for android'\n",
      " 'chrome 62.0 for ios' 'chrome 63.0' 'chrome 63.0 for android'\n",
      " 'chrome 63.0 for ios' 'chrome 64.0' 'chrome 64.0 for android'\n",
      " 'chrome 64.0 for ios' 'chrome 65.0' 'chrome 65.0 for android'\n",
      " 'chrome 65.0 for ios' 'chrome 66.0' 'chrome 66.0 for android'\n",
      " 'chrome 66.0 for ios' 'chrome 67.0' 'chrome 67.0 for android'\n",
      " 'chrome 69.0' 'chrome generic' 'chrome generic for android' 'chromium'\n",
      " 'comodo' 'cyberfox' 'edge' 'edge 13.0' 'edge 14.0' 'edge 15.0'\n",
      " 'edge 16.0' 'edge 17.0' 'facebook' 'firefox' 'firefox 47.0'\n",
      " 'firefox 48.0' 'firefox 52.0' 'firefox 55.0' 'firefox 56.0'\n",
      " 'firefox 57.0' 'firefox 58.0' 'firefox 59.0' 'firefox 60.0'\n",
      " 'firefox generic' 'firefox mobile 61.0' 'google'\n",
      " 'google search application 48.0' 'google search application 49.0'\n",
      " 'icedragon' 'ie' 'ie 11.0 for desktop' 'ie 11.0 for tablet' 'iron' 'line'\n",
      " 'maxthon' 'mobile' 'mobile safari 10.0' 'mobile safari 11.0'\n",
      " 'mobile safari 8.0' 'mobile safari 9.0' 'mobile safari generic'\n",
      " 'mobile safari uiwebview' 'nan' 'opera' 'opera 49.0' 'opera 51.0'\n",
      " 'opera 52.0' 'opera 53.0' 'opera generic' 'other' 'palemoon' 'puffin'\n",
      " 'safari' 'safari 10.0' 'safari 11.0' 'safari 9.0' 'safari generic'\n",
      " 'samsung' 'samsung browser 3.3' 'samsung browser 4.0'\n",
      " 'samsung browser 4.2' 'samsung browser 5.2' 'samsung browser 5.4'\n",
      " 'samsung browser 6.2' 'samsung browser 6.4' 'samsung browser 7.0'\n",
      " 'samsung browser generic' 'seamonkey' 'silk' 'waterfox']\n"
     ]
    }
   ],
   "source": [
    "browser_type = train_identity['id_31'].unique().astype(str)\n",
    "browser_type.sort()\n",
    "print(browser_type)"
   ]
  },
  {
   "cell_type": "code",
   "execution_count": 31,
   "metadata": {},
   "outputs": [
    {
     "data": {
      "text/plain": [
       "array(['match_status:2', 'match_status:1', nan, 'match_status:0',\n",
       "       'match_status:-1'], dtype=object)"
      ]
     },
     "execution_count": 31,
     "metadata": {},
     "output_type": "execute_result"
    }
   ],
   "source": [
    "train_identity['id_34'].unique()"
   ]
  },
  {
   "cell_type": "code",
   "execution_count": 32,
   "metadata": {},
   "outputs": [
    {
     "data": {
      "text/plain": [
       "array(['mobile', 'desktop', nan], dtype=object)"
      ]
     },
     "execution_count": 32,
     "metadata": {},
     "output_type": "execute_result"
    }
   ],
   "source": [
    "train_identity['DeviceType'].unique()"
   ]
  },
  {
   "cell_type": "code",
   "execution_count": 33,
   "metadata": {},
   "outputs": [
    {
     "data": {
      "text/plain": [
       "array(['SAMSUNG SM-G892A Build/NRD90M', 'iOS Device', 'Windows', ...,\n",
       "       'LDN-LX3 Build/HUAWEILDN-LX3', 'Z955A', 'LG-E975'], dtype=object)"
      ]
     },
     "execution_count": 33,
     "metadata": {},
     "output_type": "execute_result"
    }
   ],
   "source": [
    "train_identity['DeviceInfo'].unique()"
   ]
  },
  {
   "cell_type": "code",
   "execution_count": 42,
   "metadata": {},
   "outputs": [
    {
     "name": "stdout",
     "output_type": "stream",
     "text": [
      "TransactionID Nan percentage: 0.0\n",
      "id_01 Nan percentage: 0.0\n",
      "id_02 Nan percentage: 0.0233025729202055\n",
      "id_03 Nan percentage: 0.5401607121809849\n",
      "id_04 Nan percentage: 0.5401607121809849\n",
      "id_05 Nan percentage: 0.05108400990064687\n",
      "id_06 Nan percentage: 0.05108400990064687\n",
      "id_07 Nan percentage: 0.9642592194574058\n",
      "id_08 Nan percentage: 0.9642592194574058\n",
      "id_09 Nan percentage: 0.4805211012736336\n",
      "id_10 Nan percentage: 0.4805211012736336\n",
      "id_11 Nan percentage: 0.02256765095366525\n",
      "id_12 Nan percentage: 0.0\n",
      "id_13 Nan percentage: 0.11726165301976663\n",
      "id_14 Nan percentage: 0.4450368500967185\n",
      "id_15 Nan percentage: 0.022519118370969194\n",
      "id_16 Nan percentage: 0.10325653629890524\n",
      "id_17 Nan percentage: 0.033723211747658306\n",
      "id_18 Nan percentage: 0.6872213709761289\n",
      "id_19 Nan percentage: 0.034076806278729554\n",
      "id_20 Nan percentage: 0.034472000166397426\n",
      "id_21 Nan percentage: 0.9642314865530079\n",
      "id_22 Nan percentage: 0.9641621542920136\n",
      "id_23 Nan percentage: 0.9641621542920136\n",
      "id_24 Nan percentage: 0.9670879757059757\n",
      "id_25 Nan percentage: 0.9644186836576928\n",
      "id_26 Nan percentage: 0.9642037536486102\n",
      "id_27 Nan percentage: 0.9641621542920136\n",
      "id_28 Nan percentage: 0.02256765095366525\n",
      "id_29 Nan percentage: 0.02256765095366525\n",
      "id_30 Nan percentage: 0.46222431759722116\n",
      "id_31 Nan percentage: 0.027393176318872933\n",
      "id_32 Nan percentage: 0.462078719849133\n",
      "id_33 Nan percentage: 0.4918707923984109\n",
      "id_34 Nan percentage: 0.46056034333335644\n",
      "id_35 Nan percentage: 0.022519118370969194\n",
      "id_36 Nan percentage: 0.022519118370969194\n",
      "id_37 Nan percentage: 0.022519118370969194\n",
      "id_38 Nan percentage: 0.022519118370969194\n",
      "DeviceType Nan percentage: 0.023732432938370553\n",
      "DeviceInfo Nan percentage: 0.17726179168428863\n"
     ]
    }
   ],
   "source": [
    "for col in train_identity.columns:\n",
    "    print(f'{col} Nan percentage: {train_identity[col].isnull().sum() / train_identity.shape[0]}')"
   ]
  },
  {
   "cell_type": "markdown",
   "metadata": {},
   "source": [
    "## merge"
   ]
  },
  {
   "cell_type": "code",
   "execution_count": 3,
   "metadata": {},
   "outputs": [],
   "source": [
    "concat_merge = pd.merge(train_transaction, train_identity, on=\"TransactionID\", how=\"left\")"
   ]
  },
  {
   "cell_type": "code",
   "execution_count": 6,
   "metadata": {},
   "outputs": [
    {
     "data": {
      "text/plain": [
       "array([nan,  0.,  1.,  2.,  3.,  4.,  5.,  6.,  7.,  8.,  9., 10., 11.,\n",
       "       12., 13., 14., 15., 16., 17., 18., 19., 20., 21., 22., 23., 24.])"
      ]
     },
     "execution_count": 6,
     "metadata": {},
     "output_type": "execute_result"
    }
   ],
   "source": [
    "concat_merge[\"V181\"].unique()"
   ]
  },
  {
   "cell_type": "code",
   "execution_count": 8,
   "metadata": {},
   "outputs": [
    {
     "data": {
      "text/plain": [
       "0.0     125518\n",
       "1.0       8514\n",
       "2.0       2597\n",
       "11.0       986\n",
       "3.0        953\n",
       "4.0        403\n",
       "15.0       179\n",
       "5.0        164\n",
       "6.0         87\n",
       "7.0         62\n",
       "12.0        54\n",
       "8.0         42\n",
       "9.0         21\n",
       "10.0        16\n",
       "14.0        12\n",
       "13.0        11\n",
       "24.0         2\n",
       "16.0         2\n",
       "23.0         2\n",
       "18.0         1\n",
       "19.0         1\n",
       "21.0         1\n",
       "22.0         1\n",
       "20.0         1\n",
       "17.0         1\n",
       "Name: V181, dtype: int64"
      ]
     },
     "execution_count": 8,
     "metadata": {},
     "output_type": "execute_result"
    }
   ],
   "source": [
    "concat_merge[\"V181\"].value_counts()"
   ]
  },
  {
   "cell_type": "code",
   "execution_count": 10,
   "metadata": {},
   "outputs": [
    {
     "data": {
      "text/plain": [
       "0.0     123637\n",
       "1.0       8758\n",
       "2.0       2465\n",
       "3.0        966\n",
       "4.0        354\n",
       "5.0        157\n",
       "6.0         92\n",
       "8.0         58\n",
       "10.0        51\n",
       "7.0         49\n",
       "9.0         31\n",
       "11.0        23\n",
       "12.0         8\n",
       "16.0         4\n",
       "18.0         3\n",
       "14.0         3\n",
       "13.0         3\n",
       "15.0         3\n",
       "17.0         2\n",
       "77.0         1\n",
       "37.0         1\n",
       "75.0         1\n",
       "19.0         1\n",
       "82.0         1\n",
       "68.0         1\n",
       "40.0         1\n",
       "38.0         1\n",
       "39.0         1\n",
       "28.0         1\n",
       "79.0         1\n",
       "         ...  \n",
       "78.0         1\n",
       "64.0         1\n",
       "50.0         1\n",
       "36.0         1\n",
       "20.0         1\n",
       "57.0         1\n",
       "27.0         1\n",
       "29.0         1\n",
       "55.0         1\n",
       "22.0         1\n",
       "72.0         1\n",
       "54.0         1\n",
       "59.0         1\n",
       "49.0         1\n",
       "32.0         1\n",
       "46.0         1\n",
       "60.0         1\n",
       "70.0         1\n",
       "84.0         1\n",
       "47.0         1\n",
       "23.0         1\n",
       "45.0         1\n",
       "24.0         1\n",
       "61.0         1\n",
       "30.0         1\n",
       "42.0         1\n",
       "56.0         1\n",
       "43.0         1\n",
       "76.0         1\n",
       "63.0         1\n",
       "Name: V181, Length: 86, dtype: int64"
      ]
     },
     "execution_count": 10,
     "metadata": {},
     "output_type": "execute_result"
    }
   ],
   "source": [
    "test_transaction[\"V181\"].value_counts()"
   ]
  },
  {
   "cell_type": "code",
   "execution_count": null,
   "metadata": {},
   "outputs": [],
   "source": [
    "test_transaction"
   ]
  },
  {
   "cell_type": "code",
   "execution_count": null,
   "metadata": {},
   "outputs": [],
   "source": []
  },
  {
   "cell_type": "code",
   "execution_count": 11,
   "metadata": {},
   "outputs": [
    {
     "data": {
      "text/plain": [
       "<seaborn.axisgrid.FacetGrid at 0x7f62d6430630>"
      ]
     },
     "execution_count": 11,
     "metadata": {},
     "output_type": "execute_result"
    },
    {
     "data": {
      "image/png": "[encoded data removed]",
      "text/plain": [
       "<Figure size 720x720 with 1 Axes>"
      ]
     },
     "metadata": {
      "needs_background": "light"
     },
     "output_type": "display_data"
    }
   ],
   "source": [
    "sns.catplot(x=\"V181\", y=\"isFraud\", data=concat_merge,\n",
    "                height=10, kind=\"bar\", palette=\"muted\")"
   ]
  },
  {
   "cell_type": "markdown",
   "metadata": {},
   "source": [
    "## train_merge"
   ]
  },
  {
   "cell_type": "code",
   "execution_count": 5,
   "metadata": {},
   "outputs": [
    {
     "data": {
      "text/plain": [
       "0        NaN\n",
       "1        NaN\n",
       "2        NaN\n",
       "3        NaN\n",
       "4    70787.0\n",
       "Name: id_02, dtype: float64"
      ]
     },
     "execution_count": 5,
     "metadata": {},
     "output_type": "execute_result"
    }
   ],
   "source": [
    "train_merge[\"id_02\"].head()"
   ]
  },
  {
   "cell_type": "code",
   "execution_count": 7,
   "metadata": {},
   "outputs": [
    {
     "data": {
      "text/plain": [
       "<matplotlib.axes._subplots.AxesSubplot at 0x7f8a80cf1cc0>"
      ]
     },
     "execution_count": 7,
     "metadata": {},
     "output_type": "execute_result"
    },
    {
     "data": {
      "image/png": "[encoded data removed]",
      "text/plain": [
       "<Figure size 432x288 with 1 Axes>"
      ]
     },
     "metadata": {
      "needs_background": "light"
     },
     "output_type": "display_data"
    }
   ],
   "source": [
    "sns.distplot(train_merge[\"id_02\"], kde=False, rug=False, bins=100) "
   ]
  },
  {
   "cell_type": "code",
   "execution_count": 6,
   "metadata": {},
   "outputs": [
    {
     "name": "stderr",
     "output_type": "stream",
     "text": [
      "/opt/conda/lib/python3.7/site-packages/numpy/lib/histograms.py:754: RuntimeWarning: invalid value encountered in greater_equal\n",
      "  keep = (tmp_a >= first_edge)\n",
      "/opt/conda/lib/python3.7/site-packages/numpy/lib/histograms.py:755: RuntimeWarning: invalid value encountered in less_equal\n",
      "  keep &= (tmp_a <= last_edge)\n"
     ]
    },
    {
     "data": {
      "text/plain": [
       "<matplotlib.axes._subplots.AxesSubplot at 0x7f8a8120a5f8>"
      ]
     },
     "execution_count": 6,
     "metadata": {},
     "output_type": "execute_result"
    },
    {
     "data": {
      "image/png": "[encoded data removed]",
      "text/plain": [
       "<Figure size 432x288 with 1 Axes>"
      ]
     },
     "metadata": {
      "needs_background": "light"
     },
     "output_type": "display_data"
    }
   ],
   "source": [
    "sns.distplot(train_merge[train_merge[\"isFraud\"] == 0][\"id_02\"], kde=False, rug=False, bins=100) "
   ]
  },
  {
   "cell_type": "code",
   "execution_count": 14,
   "metadata": {},
   "outputs": [
    {
     "data": {
      "text/plain": [
       "<matplotlib.axes._subplots.AxesSubplot at 0x7f8a80e3bd68>"
      ]
     },
     "execution_count": 14,
     "metadata": {},
     "output_type": "execute_result"
    },
    {
     "data": {
      "image/png": "[encoded data removed]",
      "text/plain": [
       "<Figure size 432x288 with 1 Axes>"
      ]
     },
     "metadata": {
      "needs_background": "light"
     },
     "output_type": "display_data"
    }
   ],
   "source": [
    "sns.distplot(train_merge[train_merge[\"isFraud\"] == 1][\"id_02\"], kde=False, rug=False, bins=100) "
   ]
  },
  {
   "cell_type": "code",
   "execution_count": 12,
   "metadata": {},
   "outputs": [
    {
     "data": {
      "text/plain": [
       "1102.0      11\n",
       "696.0       10\n",
       "1141.0       9\n",
       "1083.0       9\n",
       "1116.0       9\n",
       "1120.0       9\n",
       "1117.0       9\n",
       "1127.0       8\n",
       "1138.0       7\n",
       "1166.0       7\n",
       "1304.0       7\n",
       "1110.0       7\n",
       "1179.0       7\n",
       "1125.0       7\n",
       "1089.0       7\n",
       "1109.0       7\n",
       "1217.0       7\n",
       "1343.0       7\n",
       "1119.0       7\n",
       "1177.0       6\n",
       "1201.0       6\n",
       "940.0        6\n",
       "85290.0      6\n",
       "2131.0       6\n",
       "1672.0       6\n",
       "347.0        6\n",
       "968.0        6\n",
       "1139.0       6\n",
       "1095.0       6\n",
       "1024.0       6\n",
       "            ..\n",
       "79633.0      1\n",
       "79634.0      1\n",
       "318538.0     1\n",
       "79635.0      1\n",
       "318479.0     1\n",
       "318474.0     1\n",
       "318326.0     1\n",
       "318470.0     1\n",
       "4974.0       1\n",
       "318348.0     1\n",
       "79588.0      1\n",
       "318361.0     1\n",
       "79591.0      1\n",
       "79593.0      1\n",
       "318380.0     1\n",
       "19899.0      1\n",
       "318391.0     1\n",
       "79602.0      1\n",
       "79603.0      1\n",
       "237496.0     1\n",
       "318432.0     1\n",
       "318433.0     1\n",
       "79610.0      1\n",
       "318441.0     1\n",
       "79612.0      1\n",
       "318457.0     1\n",
       "79615.0      1\n",
       "311.0        1\n",
       "318466.0     1\n",
       "2048.0       1\n",
       "Name: id_02, Length: 115655, dtype: int64"
      ]
     },
     "execution_count": 12,
     "metadata": {},
     "output_type": "execute_result"
    }
   ],
   "source": [
    "train_merge[\"id_02\"].value_counts()"
   ]
  },
  {
   "cell_type": "code",
   "execution_count": null,
   "metadata": {},
   "outputs": [],
   "source": []
  }
 ],
 "metadata": {
  "kernelspec": {
   "display_name": "Python 3",
   "language": "python",
   "name": "python3"
  },
  "language_info": {
   "codemirror_mode": {
    "name": "ipython",
    "version": 3
   },
   "file_extension": ".py",
   "mimetype": "text/x-python",
   "name": "python",
   "nbconvert_exporter": "python",
   "pygments_lexer": "ipython3",
   "version": "3.7.3"
  }
 },
 "nbformat": 4,
 "nbformat_minor": 2
}
